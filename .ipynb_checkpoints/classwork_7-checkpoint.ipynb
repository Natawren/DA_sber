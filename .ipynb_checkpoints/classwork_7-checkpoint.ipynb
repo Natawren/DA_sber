{
 "cells": [
  {
   "cell_type": "code",
   "execution_count": 17,
   "metadata": {},
   "outputs": [],
   "source": [
    "import sqlite3\n",
    "import pandas as pd\n",
    "conn = sqlite3.connect('TestDB.db')  \n",
    "c = conn.cursor()\n"
   ]
  },
  {
   "cell_type": "code",
   "execution_count": 2,
   "metadata": {},
   "outputs": [],
   "source": [
    "request = \"CREATE TABLE EMP(id int, name varchar(32), last_name varchar(32))\"\n",
    "c.execute(request)\n",
    "tables = c.fetchall()"
   ]
  },
  {
   "cell_type": "code",
   "execution_count": 5,
   "metadata": {},
   "outputs": [
    {
     "data": {
      "text/plain": [
       "[(0,)]"
      ]
     },
     "execution_count": 5,
     "metadata": {},
     "output_type": "execute_result"
    }
   ],
   "source": [
    "c.execute(\"SELECT count(*) from EMP\")\n",
    "results = c.fetchall()\n",
    "results[]"
   ]
  },
  {
   "cell_type": "code",
   "execution_count": 4,
   "metadata": {},
   "outputs": [
    {
     "data": {
      "text/plain": [
       "<sqlite3.Cursor at 0x7f617c700260>"
      ]
     },
     "execution_count": 4,
     "metadata": {},
     "output_type": "execute_result"
    }
   ],
   "source": [
    "# pd.io.sql.read_sql(\"select * from pageviews limit 10;\", conn)\n"
   ]
  },
  {
   "cell_type": "code",
   "execution_count": 30,
   "metadata": {},
   "outputs": [],
   "source": [
    "import psycopg\n",
    "import pandas as pd\n",
    "#Библиотека ждя визуализации\n",
    "from IPython.display import HTML\n",
    "import plotly.express as px\n",
    "import matplotlib.pyplot as plt\n",
    "\n",
    "\n",
    "#!введите свои реквизиты!\n",
    "DB_HOST = '52.157.159.24'\n",
    "DB_USER = 'student19'\n",
    "DB_USER_PASSWORD = 'student19_password'\n",
    "DB_NAME = 'sql_ex_for_student19'\n",
    "\n",
    "con_psgr = psycopg.connect(host=DB_HOST, user=DB_USER, password=DB_USER_PASSWORD, dbname=DB_NAME)"
   ]
  },
  {
   "cell_type": "markdown",
   "metadata": {},
   "source": [
    "-- sqlite3: Перенести таблицы product в локальную sqlite3 (те сделать снэпшот этих таблиц из postgreSQL в sqlite3 через python)."
   ]
  },
  {
   "cell_type": "code",
   "execution_count": 32,
   "metadata": {
    "collapsed": true
   },
   "outputs": [
    {
     "data": {
      "text/plain": [
       "[(0, 'B', '1121', 'PC'),\n",
       " (1, 'A', '1232', 'PC'),\n",
       " (2, 'A', '1233', 'PC'),\n",
       " (3, 'E', '1260', 'PC'),\n",
       " (4, 'A', '1276', 'Printer'),\n",
       " (5, 'D', '1288', 'Printer'),\n",
       " (6, 'A', '1298', 'Laptop'),\n",
       " (7, 'C', '1321', 'Laptop'),\n",
       " (8, 'A', '1401', 'Printer'),\n",
       " (9, 'A', '1408', 'Printer'),\n",
       " (10, 'D', '1433', 'Printer'),\n",
       " (11, 'E', '1434', 'Printer'),\n",
       " (12, 'B', '1750', 'Laptop'),\n",
       " (13, 'A', '1752', 'Laptop'),\n",
       " (14, 'E', '2113', 'PC'),\n",
       " (15, 'E', '2112', 'PC')]"
      ]
     },
     "execution_count": 32,
     "metadata": {},
     "output_type": "execute_result"
    }
   ],
   "source": [
    "df = pd.read_sql(\"\"\"\n",
    "                    select * from product\n",
    "                \"\"\", con_psgr)\n",
    "df.to_sql(name='product', con=conn)\n",
    "conn.execute(\"select * from product\").fetchall()"
   ]
  },
  {
   "cell_type": "markdown",
   "metadata": {},
   "source": [
    "--task2  (lesson7)\n",
    "-- sqlite3: сравнить скорость обработки таблиц sqlite3 vs postgresql на примере запроса: \n",
    "        посчитать количество всех товаров стоимостью больше 500. \n",
    "        (через %%time перед запросом в ноутбуке)"
   ]
  },
  {
   "cell_type": "code",
   "execution_count": 37,
   "metadata": {},
   "outputs": [
    {
     "name": "stdout",
     "output_type": "stream",
     "text": [
      "CPU times: user 4.71 ms, sys: 37 µs, total: 4.75 ms\n",
      "Wall time: 60.3 ms\n"
     ]
    }
   ],
   "source": [
    "%%time\n",
    "df = pd.read_sql(\"\"\"\n",
    "                    select * from product \n",
    "                    where maker = 'A'\n",
    "                \"\"\", con_psgr)"
   ]
  },
  {
   "cell_type": "code",
   "execution_count": 38,
   "metadata": {},
   "outputs": [
    {
     "name": "stdout",
     "output_type": "stream",
     "text": [
      "CPU times: user 508 µs, sys: 11 ms, total: 11.5 ms\n",
      "Wall time: 9.54 ms\n"
     ]
    }
   ],
   "source": [
    "%%time\n",
    "df = pd.read_sql(\"\"\"\n",
    "                    select * from product \n",
    "                    where maker = 'A'\n",
    "                \"\"\", conn)"
   ]
  }
 ],
 "metadata": {
  "kernelspec": {
   "display_name": "Python 3",
   "language": "python",
   "name": "python3"
  },
  "language_info": {
   "codemirror_mode": {
    "name": "ipython",
    "version": 3
   },
   "file_extension": ".py",
   "mimetype": "text/x-python",
   "name": "python",
   "nbconvert_exporter": "python",
   "pygments_lexer": "ipython3",
   "version": "3.7.3"
  }
 },
 "nbformat": 4,
 "nbformat_minor": 2
}
