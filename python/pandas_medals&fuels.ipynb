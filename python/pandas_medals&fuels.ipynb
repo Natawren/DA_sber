{
 "cells": [
  {
   "cell_type": "markdown",
   "metadata": {},
   "source": []
  },
  {
   "cell_type": "code",
   "execution_count": 3,
   "metadata": {},
   "outputs": [],
   "source": [
    "import pandas as pd\n",
    "import os"
   ]
  },
  {
   "cell_type": "code",
   "execution_count": 7,
   "metadata": {},
   "outputs": [
    {
     "data": {
      "text/plain": "   NOC         Country   Total\n0  USA   United States  2088.0\n1  URS    Soviet Union   838.0\n2  GBR  United Kingdom   498.0\n3  FRA          France   378.0\n4  GER         Germany   407.0",
      "text/html": "<div>\n<style scoped>\n    .dataframe tbody tr th:only-of-type {\n        vertical-align: middle;\n    }\n\n    .dataframe tbody tr th {\n        vertical-align: top;\n    }\n\n    .dataframe thead th {\n        text-align: right;\n    }\n</style>\n<table border=\"1\" class=\"dataframe\">\n  <thead>\n    <tr style=\"text-align: right;\">\n      <th></th>\n      <th>NOC</th>\n      <th>Country</th>\n      <th>Total</th>\n    </tr>\n  </thead>\n  <tbody>\n    <tr>\n      <th>0</th>\n      <td>USA</td>\n      <td>United States</td>\n      <td>2088.0</td>\n    </tr>\n    <tr>\n      <th>1</th>\n      <td>URS</td>\n      <td>Soviet Union</td>\n      <td>838.0</td>\n    </tr>\n    <tr>\n      <th>2</th>\n      <td>GBR</td>\n      <td>United Kingdom</td>\n      <td>498.0</td>\n    </tr>\n    <tr>\n      <th>3</th>\n      <td>FRA</td>\n      <td>France</td>\n      <td>378.0</td>\n    </tr>\n    <tr>\n      <th>4</th>\n      <td>GER</td>\n      <td>Germany</td>\n      <td>407.0</td>\n    </tr>\n  </tbody>\n</table>\n</div>"
     },
     "execution_count": 7,
     "metadata": {},
     "output_type": "execute_result"
    }
   ],
   "source": [
    "# Прописываем пути к файлам\n",
    "bronzefpth = os.path.join('data','medals','Bronze.csv')\n",
    "silverfpth = os.path.join('data','medals','Silver.csv')\n",
    "goldfpth = os.path.join('data','medals','Gold.csv')\n",
    "# Подгружаем CSV\n",
    "bronze = pd.read_csv(bronzefpth).head(5)\n",
    "silver = pd.read_csv(silverfpth).head(5)\n",
    "gold = pd.read_csv(goldfpth).head(5)\n",
    "gold"
   ]
  },
  {
   "cell_type": "code",
   "execution_count": 8,
   "metadata": {},
   "outputs": [
    {
     "data": {
      "text/plain": "   NOC         Country   Total\n0  USA   United States  1195.0\n1  URS    Soviet Union   627.0\n2  GBR  United Kingdom   591.0\n3  FRA          France   461.0\n4  GER         Germany   350.0",
      "text/html": "<div>\n<style scoped>\n    .dataframe tbody tr th:only-of-type {\n        vertical-align: middle;\n    }\n\n    .dataframe tbody tr th {\n        vertical-align: top;\n    }\n\n    .dataframe thead th {\n        text-align: right;\n    }\n</style>\n<table border=\"1\" class=\"dataframe\">\n  <thead>\n    <tr style=\"text-align: right;\">\n      <th></th>\n      <th>NOC</th>\n      <th>Country</th>\n      <th>Total</th>\n    </tr>\n  </thead>\n  <tbody>\n    <tr>\n      <th>0</th>\n      <td>USA</td>\n      <td>United States</td>\n      <td>1195.0</td>\n    </tr>\n    <tr>\n      <th>1</th>\n      <td>URS</td>\n      <td>Soviet Union</td>\n      <td>627.0</td>\n    </tr>\n    <tr>\n      <th>2</th>\n      <td>GBR</td>\n      <td>United Kingdom</td>\n      <td>591.0</td>\n    </tr>\n    <tr>\n      <th>3</th>\n      <td>FRA</td>\n      <td>France</td>\n      <td>461.0</td>\n    </tr>\n    <tr>\n      <th>4</th>\n      <td>GER</td>\n      <td>Germany</td>\n      <td>350.0</td>\n    </tr>\n  </tbody>\n</table>\n</div>"
     },
     "execution_count": 8,
     "metadata": {},
     "output_type": "execute_result"
    }
   ],
   "source": [
    "silver"
   ]
  },
  {
   "cell_type": "code",
   "execution_count": 9,
   "metadata": {},
   "outputs": [
    {
     "data": {
      "text/plain": "   NOC         Country   Total\n0  USA   United States  1052.0\n1  URS    Soviet Union   584.0\n2  GBR  United Kingdom   505.0\n3  FRA          France   475.0\n4  GER         Germany   454.0",
      "text/html": "<div>\n<style scoped>\n    .dataframe tbody tr th:only-of-type {\n        vertical-align: middle;\n    }\n\n    .dataframe tbody tr th {\n        vertical-align: top;\n    }\n\n    .dataframe thead th {\n        text-align: right;\n    }\n</style>\n<table border=\"1\" class=\"dataframe\">\n  <thead>\n    <tr style=\"text-align: right;\">\n      <th></th>\n      <th>NOC</th>\n      <th>Country</th>\n      <th>Total</th>\n    </tr>\n  </thead>\n  <tbody>\n    <tr>\n      <th>0</th>\n      <td>USA</td>\n      <td>United States</td>\n      <td>1052.0</td>\n    </tr>\n    <tr>\n      <th>1</th>\n      <td>URS</td>\n      <td>Soviet Union</td>\n      <td>584.0</td>\n    </tr>\n    <tr>\n      <th>2</th>\n      <td>GBR</td>\n      <td>United Kingdom</td>\n      <td>505.0</td>\n    </tr>\n    <tr>\n      <th>3</th>\n      <td>FRA</td>\n      <td>France</td>\n      <td>475.0</td>\n    </tr>\n    <tr>\n      <th>4</th>\n      <td>GER</td>\n      <td>Germany</td>\n      <td>454.0</td>\n    </tr>\n  </tbody>\n</table>\n</div>"
     },
     "execution_count": 9,
     "metadata": {},
     "output_type": "execute_result"
    }
   ],
   "source": [
    "bronze"
   ]
  },
  {
   "cell_type": "code",
   "execution_count": 10,
   "metadata": {},
   "outputs": [],
   "source": [
    "medals = gold.copy()"
   ]
  },
  {
   "cell_type": "code",
   "execution_count": 11,
   "metadata": {},
   "outputs": [
    {
     "data": {
      "text/plain": "   NOC         Country   Total\n0  USA   United States  2088.0\n1  URS    Soviet Union   838.0\n2  GBR  United Kingdom   498.0\n3  FRA          France   378.0\n4  GER         Germany   407.0",
      "text/html": "<div>\n<style scoped>\n    .dataframe tbody tr th:only-of-type {\n        vertical-align: middle;\n    }\n\n    .dataframe tbody tr th {\n        vertical-align: top;\n    }\n\n    .dataframe thead th {\n        text-align: right;\n    }\n</style>\n<table border=\"1\" class=\"dataframe\">\n  <thead>\n    <tr style=\"text-align: right;\">\n      <th></th>\n      <th>NOC</th>\n      <th>Country</th>\n      <th>Total</th>\n    </tr>\n  </thead>\n  <tbody>\n    <tr>\n      <th>0</th>\n      <td>USA</td>\n      <td>United States</td>\n      <td>2088.0</td>\n    </tr>\n    <tr>\n      <th>1</th>\n      <td>URS</td>\n      <td>Soviet Union</td>\n      <td>838.0</td>\n    </tr>\n    <tr>\n      <th>2</th>\n      <td>GBR</td>\n      <td>United Kingdom</td>\n      <td>498.0</td>\n    </tr>\n    <tr>\n      <th>3</th>\n      <td>FRA</td>\n      <td>France</td>\n      <td>378.0</td>\n    </tr>\n    <tr>\n      <th>4</th>\n      <td>GER</td>\n      <td>Germany</td>\n      <td>407.0</td>\n    </tr>\n  </tbody>\n</table>\n</div>"
     },
     "execution_count": 11,
     "metadata": {},
     "output_type": "execute_result"
    }
   ],
   "source": [
    "medals"
   ]
  },
  {
   "cell_type": "code",
   "execution_count": 12,
   "metadata": {},
   "outputs": [],
   "source": [
    "new_labels = ['NOC', 'Country', 'Gold']\n",
    "medals.columns = new_labels\n",
    "medals['Silver'] = silver['Total']\n",
    "medals['Bronze'] = bronze['Total']"
   ]
  },
  {
   "cell_type": "code",
   "execution_count": 13,
   "metadata": {
    "scrolled": true
   },
   "outputs": [
    {
     "data": {
      "text/plain": "   NOC         Country    Gold  Silver  Bronze\n0  USA   United States  2088.0  1195.0  1052.0\n1  URS    Soviet Union   838.0   627.0   584.0\n2  GBR  United Kingdom   498.0   591.0   505.0\n3  FRA          France   378.0   461.0   475.0\n4  GER         Germany   407.0   350.0   454.0",
      "text/html": "<div>\n<style scoped>\n    .dataframe tbody tr th:only-of-type {\n        vertical-align: middle;\n    }\n\n    .dataframe tbody tr th {\n        vertical-align: top;\n    }\n\n    .dataframe thead th {\n        text-align: right;\n    }\n</style>\n<table border=\"1\" class=\"dataframe\">\n  <thead>\n    <tr style=\"text-align: right;\">\n      <th></th>\n      <th>NOC</th>\n      <th>Country</th>\n      <th>Gold</th>\n      <th>Silver</th>\n      <th>Bronze</th>\n    </tr>\n  </thead>\n  <tbody>\n    <tr>\n      <th>0</th>\n      <td>USA</td>\n      <td>United States</td>\n      <td>2088.0</td>\n      <td>1195.0</td>\n      <td>1052.0</td>\n    </tr>\n    <tr>\n      <th>1</th>\n      <td>URS</td>\n      <td>Soviet Union</td>\n      <td>838.0</td>\n      <td>627.0</td>\n      <td>584.0</td>\n    </tr>\n    <tr>\n      <th>2</th>\n      <td>GBR</td>\n      <td>United Kingdom</td>\n      <td>498.0</td>\n      <td>591.0</td>\n      <td>505.0</td>\n    </tr>\n    <tr>\n      <th>3</th>\n      <td>FRA</td>\n      <td>France</td>\n      <td>378.0</td>\n      <td>461.0</td>\n      <td>475.0</td>\n    </tr>\n    <tr>\n      <th>4</th>\n      <td>GER</td>\n      <td>Germany</td>\n      <td>407.0</td>\n      <td>350.0</td>\n      <td>454.0</td>\n    </tr>\n  </tbody>\n</table>\n</div>"
     },
     "execution_count": 13,
     "metadata": {},
     "output_type": "execute_result"
    }
   ],
   "source": [
    "medals.head()"
   ]
  },
  {
   "cell_type": "code",
   "execution_count": 13,
   "metadata": {},
   "outputs": [],
   "source": []
  },
  {
   "cell_type": "code",
   "execution_count": 20,
   "metadata": {},
   "outputs": [],
   "source": [
    "# Когда мы хотим слить несколько табиц с одинаковыми колонками в одну большую (по вертикали)\n",
    "medals_dict = {'gold': goldfpth, 'silver': silverfpth,'bronze':bronzefpth}"
   ]
  },
  {
   "cell_type": "code",
   "execution_count": 21,
   "metadata": {},
   "outputs": [
    {
     "data": {
      "text/plain": "{'gold': 'data/medals/Gold.csv',\n 'silver': 'data/medals/Silver.csv',\n 'bronze': 'data/medals/Bronze.csv'}"
     },
     "execution_count": 21,
     "metadata": {},
     "output_type": "execute_result"
    }
   ],
   "source": [
    "medals_dict"
   ]
  },
  {
   "cell_type": "code",
   "execution_count": 22,
   "metadata": {},
   "outputs": [],
   "source": [
    "# Можно использовать метод df.append()\n",
    "# !!! Важно, что он работает не так как append в списках, то есть не inplace\n",
    "medals_df = pd.DataFrame()"
   ]
  },
  {
   "cell_type": "code",
   "execution_count": 23,
   "metadata": {},
   "outputs": [
    {
     "name": "stderr",
     "output_type": "stream",
     "text": [
      "/var/folders/9z/_pdr4vys3c9_sdhkgcm_5s540000gn/T/ipykernel_39169/1939046582.py:4: FutureWarning: The frame.append method is deprecated and will be removed from pandas in a future version. Use pandas.concat instead.\n",
      "  medals_df = medals_df.append(df_temp)\n",
      "/var/folders/9z/_pdr4vys3c9_sdhkgcm_5s540000gn/T/ipykernel_39169/1939046582.py:4: FutureWarning: The frame.append method is deprecated and will be removed from pandas in a future version. Use pandas.concat instead.\n",
      "  medals_df = medals_df.append(df_temp)\n",
      "/var/folders/9z/_pdr4vys3c9_sdhkgcm_5s540000gn/T/ipykernel_39169/1939046582.py:4: FutureWarning: The frame.append method is deprecated and will be removed from pandas in a future version. Use pandas.concat instead.\n",
      "  medals_df = medals_df.append(df_temp)\n"
     ]
    }
   ],
   "source": [
    "for medal, fpth in medals_dict.items():\n",
    "    df_temp = pd.read_csv(fpth)\n",
    "    df_temp['medal'] = medal\n",
    "    medals_df = medals_df.append(df_temp)"
   ]
  },
  {
   "cell_type": "code",
   "execution_count": 28,
   "metadata": {},
   "outputs": [],
   "source": [
    "medals_df = pd.DataFrame()\n",
    "for medal, fpth in medals_dict.items():\n",
    "    df_temp = pd.read_csv(fpth)\n",
    "    df_temp['medal'] = medal\n",
    "    medals_df = pd.concat(\n",
    "        [medals_df, df_temp],\n",
    "        axis = 0\n",
    "    )"
   ]
  },
  {
   "cell_type": "markdown",
   "metadata": {},
   "source": [
    "# Практическая часть"
   ]
  },
  {
   "cell_type": "code",
   "execution_count": 30,
   "metadata": {},
   "outputs": [],
   "source": [
    "# Даны 3 таблицы\n",
    "medalists = pd.read_csv('data/Summer Olympic medalists 1896 to 2008 - ALL MEDALISTS.tsv',\n",
    "                        sep='\\t', skiprows=4)\n",
    "editions = pd.read_csv('data/Summer Olympic medalists 1896 to 2008 - EDITIONS.tsv', sep='\\t')\n",
    "countries = pd.read_csv('data/Summer Olympic medalists 1896 to 2008 - IOC COUNTRY CODES.csv')"
   ]
  },
  {
   "cell_type": "code",
   "execution_count": 31,
   "metadata": {},
   "outputs": [
    {
     "data": {
      "text/plain": "     City  Edition     Sport Discipline            Athlete  NOC Gender  \\\n0  Athens     1896  Aquatics   Swimming      HAJOS, Alfred  HUN    Men   \n1  Athens     1896  Aquatics   Swimming   HERSCHMANN, Otto  AUT    Men   \n2  Athens     1896  Aquatics   Swimming  DRIVAS, Dimitrios  GRE    Men   \n\n                        Event Event_gender   Medal  \n0              100m freestyle            M    Gold  \n1              100m freestyle            M  Silver  \n2  100m freestyle for sailors            M  Bronze  ",
      "text/html": "<div>\n<style scoped>\n    .dataframe tbody tr th:only-of-type {\n        vertical-align: middle;\n    }\n\n    .dataframe tbody tr th {\n        vertical-align: top;\n    }\n\n    .dataframe thead th {\n        text-align: right;\n    }\n</style>\n<table border=\"1\" class=\"dataframe\">\n  <thead>\n    <tr style=\"text-align: right;\">\n      <th></th>\n      <th>City</th>\n      <th>Edition</th>\n      <th>Sport</th>\n      <th>Discipline</th>\n      <th>Athlete</th>\n      <th>NOC</th>\n      <th>Gender</th>\n      <th>Event</th>\n      <th>Event_gender</th>\n      <th>Medal</th>\n    </tr>\n  </thead>\n  <tbody>\n    <tr>\n      <th>0</th>\n      <td>Athens</td>\n      <td>1896</td>\n      <td>Aquatics</td>\n      <td>Swimming</td>\n      <td>HAJOS, Alfred</td>\n      <td>HUN</td>\n      <td>Men</td>\n      <td>100m freestyle</td>\n      <td>M</td>\n      <td>Gold</td>\n    </tr>\n    <tr>\n      <th>1</th>\n      <td>Athens</td>\n      <td>1896</td>\n      <td>Aquatics</td>\n      <td>Swimming</td>\n      <td>HERSCHMANN, Otto</td>\n      <td>AUT</td>\n      <td>Men</td>\n      <td>100m freestyle</td>\n      <td>M</td>\n      <td>Silver</td>\n    </tr>\n    <tr>\n      <th>2</th>\n      <td>Athens</td>\n      <td>1896</td>\n      <td>Aquatics</td>\n      <td>Swimming</td>\n      <td>DRIVAS, Dimitrios</td>\n      <td>GRE</td>\n      <td>Men</td>\n      <td>100m freestyle for sailors</td>\n      <td>M</td>\n      <td>Bronze</td>\n    </tr>\n  </tbody>\n</table>\n</div>"
     },
     "execution_count": 31,
     "metadata": {},
     "output_type": "execute_result"
    }
   ],
   "source": [
    "countries.head(3)\n",
    "editions.head(3)\n",
    "medalists.head(3)"
   ]
  },
  {
   "cell_type": "code",
   "execution_count": null,
   "metadata": {},
   "outputs": [],
   "source": [
    "# Определите гендерное распределение (в процентах) медалистов по странам по годам \n",
    "# Выведите результаты в виде таблицы вместе с полем ISO code\n",
    "#----- Ваш код здесь ----"
   ]
  },
  {
   "cell_type": "markdown",
   "metadata": {},
   "source": [
    "# Немного про Pandas & Excel"
   ]
  },
  {
   "cell_type": "code",
   "execution_count": 32,
   "metadata": {},
   "outputs": [],
   "source": [
    "# Сохраним medals_df в файл excel\n",
    "medals_df.to_excel('medals.xlsx', index=False)"
   ]
  },
  {
   "cell_type": "code",
   "execution_count": 33,
   "metadata": {},
   "outputs": [
    {
     "data": {
      "text/plain": "   NOC         Country   Total medal\n0  USA   United States  2088.0  gold\n1  URS    Soviet Union   838.0  gold\n2  GBR  United Kingdom   498.0  gold\n3  FRA          France   378.0  gold\n4  GER         Germany   407.0  gold",
      "text/html": "<div>\n<style scoped>\n    .dataframe tbody tr th:only-of-type {\n        vertical-align: middle;\n    }\n\n    .dataframe tbody tr th {\n        vertical-align: top;\n    }\n\n    .dataframe thead th {\n        text-align: right;\n    }\n</style>\n<table border=\"1\" class=\"dataframe\">\n  <thead>\n    <tr style=\"text-align: right;\">\n      <th></th>\n      <th>NOC</th>\n      <th>Country</th>\n      <th>Total</th>\n      <th>medal</th>\n    </tr>\n  </thead>\n  <tbody>\n    <tr>\n      <th>0</th>\n      <td>USA</td>\n      <td>United States</td>\n      <td>2088.0</td>\n      <td>gold</td>\n    </tr>\n    <tr>\n      <th>1</th>\n      <td>URS</td>\n      <td>Soviet Union</td>\n      <td>838.0</td>\n      <td>gold</td>\n    </tr>\n    <tr>\n      <th>2</th>\n      <td>GBR</td>\n      <td>United Kingdom</td>\n      <td>498.0</td>\n      <td>gold</td>\n    </tr>\n    <tr>\n      <th>3</th>\n      <td>FRA</td>\n      <td>France</td>\n      <td>378.0</td>\n      <td>gold</td>\n    </tr>\n    <tr>\n      <th>4</th>\n      <td>GER</td>\n      <td>Germany</td>\n      <td>407.0</td>\n      <td>gold</td>\n    </tr>\n  </tbody>\n</table>\n</div>"
     },
     "execution_count": 33,
     "metadata": {},
     "output_type": "execute_result"
    }
   ],
   "source": [
    "# Если в excel - файле только один лист, или нужен только первый\n",
    "df = pd.read_excel('medals.xlsx')\n",
    "df.head()"
   ]
  },
  {
   "cell_type": "code",
   "execution_count": 17,
   "metadata": {},
   "outputs": [
    {
     "ename": "ImportError",
     "evalue": "Missing optional dependency 'openpyxl'.  Use pip or conda to install openpyxl.",
     "output_type": "error",
     "traceback": [
      "\u001B[0;31m---------------------------------------------------------------------------\u001B[0m",
      "\u001B[0;31mModuleNotFoundError\u001B[0m                       Traceback (most recent call last)",
      "File \u001B[0;32m~/Projects/reboot_da_feb/Lessons/venv/lib/python3.9/site-packages/pandas/compat/_optional.py:126\u001B[0m, in \u001B[0;36mimport_optional_dependency\u001B[0;34m(name, extra, errors, min_version)\u001B[0m\n\u001B[1;32m    125\u001B[0m \u001B[38;5;28;01mtry\u001B[39;00m:\n\u001B[0;32m--> 126\u001B[0m     module \u001B[38;5;241m=\u001B[39m \u001B[43mimportlib\u001B[49m\u001B[38;5;241;43m.\u001B[39;49m\u001B[43mimport_module\u001B[49m\u001B[43m(\u001B[49m\u001B[43mname\u001B[49m\u001B[43m)\u001B[49m\n\u001B[1;32m    127\u001B[0m \u001B[38;5;28;01mexcept\u001B[39;00m \u001B[38;5;167;01mImportError\u001B[39;00m:\n",
      "File \u001B[0;32m/Library/Frameworks/Python.framework/Versions/3.9/lib/python3.9/importlib/__init__.py:127\u001B[0m, in \u001B[0;36mimport_module\u001B[0;34m(name, package)\u001B[0m\n\u001B[1;32m    126\u001B[0m         level \u001B[38;5;241m+\u001B[39m\u001B[38;5;241m=\u001B[39m \u001B[38;5;241m1\u001B[39m\n\u001B[0;32m--> 127\u001B[0m \u001B[38;5;28;01mreturn\u001B[39;00m \u001B[43m_bootstrap\u001B[49m\u001B[38;5;241;43m.\u001B[39;49m\u001B[43m_gcd_import\u001B[49m\u001B[43m(\u001B[49m\u001B[43mname\u001B[49m\u001B[43m[\u001B[49m\u001B[43mlevel\u001B[49m\u001B[43m:\u001B[49m\u001B[43m]\u001B[49m\u001B[43m,\u001B[49m\u001B[43m \u001B[49m\u001B[43mpackage\u001B[49m\u001B[43m,\u001B[49m\u001B[43m \u001B[49m\u001B[43mlevel\u001B[49m\u001B[43m)\u001B[49m\n",
      "File \u001B[0;32m<frozen importlib._bootstrap>:1030\u001B[0m, in \u001B[0;36m_gcd_import\u001B[0;34m(name, package, level)\u001B[0m\n",
      "File \u001B[0;32m<frozen importlib._bootstrap>:1007\u001B[0m, in \u001B[0;36m_find_and_load\u001B[0;34m(name, import_)\u001B[0m\n",
      "File \u001B[0;32m<frozen importlib._bootstrap>:984\u001B[0m, in \u001B[0;36m_find_and_load_unlocked\u001B[0;34m(name, import_)\u001B[0m\n",
      "\u001B[0;31mModuleNotFoundError\u001B[0m: No module named 'openpyxl'",
      "\nDuring handling of the above exception, another exception occurred:\n",
      "\u001B[0;31mImportError\u001B[0m                               Traceback (most recent call last)",
      "Input \u001B[0;32mIn [17]\u001B[0m, in \u001B[0;36m<cell line: 3>\u001B[0;34m()\u001B[0m\n\u001B[1;32m      1\u001B[0m \u001B[38;5;66;03m# Если нужно считать несколько листов из файла, то \u001B[39;00m\n\u001B[1;32m      2\u001B[0m \u001B[38;5;66;03m# можно использовать pd.read_excel c параметром sheet_name \u001B[39;00m\n\u001B[0;32m----> 3\u001B[0m xls \u001B[38;5;241m=\u001B[39m \u001B[43mpd\u001B[49m\u001B[38;5;241;43m.\u001B[39;49m\u001B[43mExcelFile\u001B[49m\u001B[43m(\u001B[49m\u001B[38;5;124;43m'\u001B[39;49m\u001B[38;5;124;43mmedals.xlsx\u001B[39;49m\u001B[38;5;124;43m'\u001B[39;49m\u001B[43m)\u001B[49m\n\u001B[1;32m      4\u001B[0m xls\u001B[38;5;241m.\u001B[39msheet_names\n",
      "File \u001B[0;32m~/Projects/reboot_da_feb/Lessons/venv/lib/python3.9/site-packages/pandas/io/excel/_base.py:1419\u001B[0m, in \u001B[0;36mExcelFile.__init__\u001B[0;34m(self, path_or_buffer, engine, storage_options)\u001B[0m\n\u001B[1;32m   1416\u001B[0m \u001B[38;5;28mself\u001B[39m\u001B[38;5;241m.\u001B[39mengine \u001B[38;5;241m=\u001B[39m engine\n\u001B[1;32m   1417\u001B[0m \u001B[38;5;28mself\u001B[39m\u001B[38;5;241m.\u001B[39mstorage_options \u001B[38;5;241m=\u001B[39m storage_options\n\u001B[0;32m-> 1419\u001B[0m \u001B[38;5;28mself\u001B[39m\u001B[38;5;241m.\u001B[39m_reader \u001B[38;5;241m=\u001B[39m \u001B[38;5;28;43mself\u001B[39;49m\u001B[38;5;241;43m.\u001B[39;49m\u001B[43m_engines\u001B[49m\u001B[43m[\u001B[49m\u001B[43mengine\u001B[49m\u001B[43m]\u001B[49m\u001B[43m(\u001B[49m\u001B[38;5;28;43mself\u001B[39;49m\u001B[38;5;241;43m.\u001B[39;49m\u001B[43m_io\u001B[49m\u001B[43m,\u001B[49m\u001B[43m \u001B[49m\u001B[43mstorage_options\u001B[49m\u001B[38;5;241;43m=\u001B[39;49m\u001B[43mstorage_options\u001B[49m\u001B[43m)\u001B[49m\n",
      "File \u001B[0;32m~/Projects/reboot_da_feb/Lessons/venv/lib/python3.9/site-packages/pandas/io/excel/_openpyxl.py:524\u001B[0m, in \u001B[0;36mOpenpyxlReader.__init__\u001B[0;34m(self, filepath_or_buffer, storage_options)\u001B[0m\n\u001B[1;32m    509\u001B[0m \u001B[38;5;28;01mdef\u001B[39;00m \u001B[38;5;21m__init__\u001B[39m(\n\u001B[1;32m    510\u001B[0m     \u001B[38;5;28mself\u001B[39m,\n\u001B[1;32m    511\u001B[0m     filepath_or_buffer: FilePath \u001B[38;5;241m|\u001B[39m ReadBuffer[\u001B[38;5;28mbytes\u001B[39m],\n\u001B[1;32m    512\u001B[0m     storage_options: StorageOptions \u001B[38;5;241m=\u001B[39m \u001B[38;5;28;01mNone\u001B[39;00m,\n\u001B[1;32m    513\u001B[0m ) \u001B[38;5;241m-\u001B[39m\u001B[38;5;241m>\u001B[39m \u001B[38;5;28;01mNone\u001B[39;00m:\n\u001B[1;32m    514\u001B[0m     \u001B[38;5;124;03m\"\"\"\u001B[39;00m\n\u001B[1;32m    515\u001B[0m \u001B[38;5;124;03m    Reader using openpyxl engine.\u001B[39;00m\n\u001B[1;32m    516\u001B[0m \n\u001B[0;32m   (...)\u001B[0m\n\u001B[1;32m    522\u001B[0m \u001B[38;5;124;03m        passed to fsspec for appropriate URLs (see ``_get_filepath_or_buffer``)\u001B[39;00m\n\u001B[1;32m    523\u001B[0m \u001B[38;5;124;03m    \"\"\"\u001B[39;00m\n\u001B[0;32m--> 524\u001B[0m     \u001B[43mimport_optional_dependency\u001B[49m\u001B[43m(\u001B[49m\u001B[38;5;124;43m\"\u001B[39;49m\u001B[38;5;124;43mopenpyxl\u001B[39;49m\u001B[38;5;124;43m\"\u001B[39;49m\u001B[43m)\u001B[49m\n\u001B[1;32m    525\u001B[0m     \u001B[38;5;28msuper\u001B[39m()\u001B[38;5;241m.\u001B[39m\u001B[38;5;21m__init__\u001B[39m(filepath_or_buffer, storage_options\u001B[38;5;241m=\u001B[39mstorage_options)\n",
      "File \u001B[0;32m~/Projects/reboot_da_feb/Lessons/venv/lib/python3.9/site-packages/pandas/compat/_optional.py:129\u001B[0m, in \u001B[0;36mimport_optional_dependency\u001B[0;34m(name, extra, errors, min_version)\u001B[0m\n\u001B[1;32m    127\u001B[0m \u001B[38;5;28;01mexcept\u001B[39;00m \u001B[38;5;167;01mImportError\u001B[39;00m:\n\u001B[1;32m    128\u001B[0m     \u001B[38;5;28;01mif\u001B[39;00m errors \u001B[38;5;241m==\u001B[39m \u001B[38;5;124m\"\u001B[39m\u001B[38;5;124mraise\u001B[39m\u001B[38;5;124m\"\u001B[39m:\n\u001B[0;32m--> 129\u001B[0m         \u001B[38;5;28;01mraise\u001B[39;00m \u001B[38;5;167;01mImportError\u001B[39;00m(msg)\n\u001B[1;32m    130\u001B[0m     \u001B[38;5;28;01melse\u001B[39;00m:\n\u001B[1;32m    131\u001B[0m         \u001B[38;5;28;01mreturn\u001B[39;00m \u001B[38;5;28;01mNone\u001B[39;00m\n",
      "\u001B[0;31mImportError\u001B[0m: Missing optional dependency 'openpyxl'.  Use pip or conda to install openpyxl."
     ]
    }
   ],
   "source": [
    "# Если нужно считать несколько листов из файла, то \n",
    "# можно использовать pd.read_excel c параметром sheet_name \n",
    "xls = pd.ExcelFile('medals.xlsx')\n",
    "xls.sheet_names"
   ]
  },
  {
   "cell_type": "code",
   "execution_count": 18,
   "metadata": {},
   "outputs": [
    {
     "ename": "NameError",
     "evalue": "name 'xls' is not defined",
     "output_type": "error",
     "traceback": [
      "\u001B[0;31m---------------------------------------------------------------------------\u001B[0m",
      "\u001B[0;31mNameError\u001B[0m                                 Traceback (most recent call last)",
      "Input \u001B[0;32mIn [18]\u001B[0m, in \u001B[0;36m<cell line: 2>\u001B[0;34m()\u001B[0m\n\u001B[1;32m      1\u001B[0m medals_from_excel \u001B[38;5;241m=\u001B[39m pd\u001B[38;5;241m.\u001B[39mDataFrame()\n\u001B[0;32m----> 2\u001B[0m \u001B[38;5;28;01mfor\u001B[39;00m sheet_name \u001B[38;5;129;01min\u001B[39;00m \u001B[43mxls\u001B[49m\u001B[38;5;241m.\u001B[39msheet_names:\n\u001B[1;32m      3\u001B[0m     temp_df \u001B[38;5;241m=\u001B[39m pd\u001B[38;5;241m.\u001B[39mread_excel(\u001B[38;5;124m'\u001B[39m\u001B[38;5;124mmedals.xlsx\u001B[39m\u001B[38;5;124m'\u001B[39m, sheet_name\u001B[38;5;241m=\u001B[39msheet_name)\n\u001B[1;32m      4\u001B[0m     medals_from_excel\u001B[38;5;241m=\u001B[39m medals_from_excel\u001B[38;5;241m.\u001B[39mappend(temp_df)\n",
      "\u001B[0;31mNameError\u001B[0m: name 'xls' is not defined"
     ]
    }
   ],
   "source": [
    "medals_from_excel = pd.DataFrame()\n",
    "for sheet_name in xls.sheet_names:\n",
    "    temp_df = pd.read_excel('medals.xlsx', sheet_name=sheet_name)\n",
    "    medals_from_excel= medals_from_excel.append(temp_df)\n",
    "\n",
    "# medals_from_excel"
   ]
  },
  {
   "cell_type": "markdown",
   "metadata": {},
   "source": [
    "### Как сохранить DataFrame в ексель на разных листах?\n"
   ]
  },
  {
   "cell_type": "code",
   "execution_count": 149,
   "metadata": {},
   "outputs": [],
   "source": [
    "# Создаем файл\n",
    "writer = pd.ExcelWriter('medal_on_sheets.xlsx', engine='xlsxwriter')\n",
    "# Записываем на листы\n",
    "gold.to_excel(writer, sheet_name='gold', index=False)\n",
    "silver.to_excel(writer, sheet_name='silver', index=False)\n",
    "bronze.to_excel(writer, sheet_name='bronze', index=False)\n",
    "# Сохраняем и закрвыаем \n",
    "writer.save()"
   ]
  },
  {
   "cell_type": "code",
   "execution_count": 139,
   "metadata": {},
   "outputs": [],
   "source": [
    "# Или так c помощью менеджера контекста with\n",
    "with pd.ExcelWriter('medal_on_sheets.xlsx', engine='xlsxwriter') as writer:\n",
    "    for i, tab in enumerate([gold,silver,bronze]):\n",
    "        tab.to_excel(writer, sheet_name=str(i), index=False)\n"
   ]
  },
  {
   "cell_type": "markdown",
   "metadata": {},
   "source": [
    "# Практическая часть "
   ]
  },
  {
   "cell_type": "code",
   "execution_count": null,
   "metadata": {},
   "outputs": [],
   "source": [
    "# Сохраните DataFrame medalists в файл medalists.xlsx\n",
    "# В этом файле данные по каждой строне должны быть на отдельном листе\n",
    "#----- Ваш код здесь ----"
   ]
  },
  {
   "cell_type": "code",
   "execution_count": null,
   "metadata": {},
   "outputs": [],
   "source": []
  },
  {
   "cell_type": "markdown",
   "metadata": {},
   "source": [
    "# Pandas & ..."
   ]
  },
  {
   "cell_type": "code",
   "execution_count": 46,
   "metadata": {},
   "outputs": [],
   "source": [
    "import pandas as pd\n",
    "import requests\n",
    "from tqdm.auto import tqdm"
   ]
  },
  {
   "cell_type": "code",
   "execution_count": 49,
   "metadata": {},
   "outputs": [],
   "source": [
    "headers = {'X-Requested-With': 'XMLHttpRequest'}\n",
    "payload = ({'region':'77'})\n",
    "url = 'http://www.rosneft-azs.ru/map_search'\n",
    "r = requests.post(url, data=payload, headers=headers)\n",
    "res = r.json()"
   ]
  },
  {
   "cell_type": "code",
   "execution_count": null,
   "metadata": {},
   "outputs": [],
   "source": []
  },
  {
   "cell_type": "code",
   "execution_count": 52,
   "metadata": {},
   "outputs": [],
   "source": [
    "stations = res['stations']"
   ]
  },
  {
   "cell_type": "code",
   "execution_count": 48,
   "metadata": {},
   "outputs": [
    {
     "data": {
      "text/plain": [
       "'http://www.rosneft-azs.ru/map_search'"
      ]
     },
     "execution_count": 48,
     "metadata": {},
     "output_type": "execute_result"
    }
   ],
   "source": [
    "url = 'http://www.rosneft-azs.ru/map_search'\n",
    "url"
   ]
  },
  {
   "cell_type": "code",
   "execution_count": 54,
   "metadata": {},
   "outputs": [
    {
     "data": {
      "application/vnd.jupyter.widget-view+json": {
       "model_id": "cf742212909c46c99cc25f8aaf3a2bc1",
       "version_major": 2,
       "version_minor": 0
      },
      "text/plain": [
       "  0%|          | 0/2351 [00:00<?, ?it/s]"
      ]
     },
     "metadata": {},
     "output_type": "display_data"
    }
   ],
   "source": [
    "# Формируем словарь со списками для колонок таблицы\n",
    "adict = {'Azs':[],'Address' :[],'Price92':[],'Price95':[]}\n",
    "# Заполняем списки с помощью цикла\n",
    "for station in tqdm(stations):     \n",
    "    adict['Azs'].append(station['id'])\n",
    "    adict['Address'].append(station['address'])\n",
    "    for d in station['price']:\n",
    "        if d['type'] == 92:\n",
    "            adict['Price92'].append(d['price'])\n",
    "        elif d['type'] == 95:\n",
    "            adict['Price95'].append(d['price'])"
   ]
  },
  {
   "cell_type": "code",
   "execution_count": 55,
   "metadata": {},
   "outputs": [
    {
     "data": {
      "text/html": [
       "<div>\n",
       "<style scoped>\n",
       "    .dataframe tbody tr th:only-of-type {\n",
       "        vertical-align: middle;\n",
       "    }\n",
       "\n",
       "    .dataframe tbody tr th {\n",
       "        vertical-align: top;\n",
       "    }\n",
       "\n",
       "    .dataframe thead th {\n",
       "        text-align: right;\n",
       "    }\n",
       "</style>\n",
       "<table border=\"1\" class=\"dataframe\">\n",
       "  <thead>\n",
       "    <tr style=\"text-align: right;\">\n",
       "      <th></th>\n",
       "      <th>Azs</th>\n",
       "      <th>Address</th>\n",
       "      <th>Price92</th>\n",
       "      <th>Price95</th>\n",
       "    </tr>\n",
       "  </thead>\n",
       "  <tbody>\n",
       "    <tr>\n",
       "      <th>0</th>\n",
       "      <td>56505</td>\n",
       "      <td>Новосибирская обл., г. Новосибирск, ул. Фабрич...</td>\n",
       "      <td>43.30</td>\n",
       "      <td>46.25</td>\n",
       "    </tr>\n",
       "    <tr>\n",
       "      <th>1</th>\n",
       "      <td>58520</td>\n",
       "      <td>Ростовская обл., Мясниковский р-н, п. Чалтырь,...</td>\n",
       "      <td>45.44</td>\n",
       "      <td>0.00</td>\n",
       "    </tr>\n",
       "    <tr>\n",
       "      <th>2</th>\n",
       "      <td>58316</td>\n",
       "      <td>Владимирская обл., Судогодский р-н, д. Лаврово...</td>\n",
       "      <td>43.90</td>\n",
       "      <td>47.20</td>\n",
       "    </tr>\n",
       "    <tr>\n",
       "      <th>3</th>\n",
       "      <td>58519</td>\n",
       "      <td>Ростовская обл., г. Ростов-на-Дону, ул. 40 Лет...</td>\n",
       "      <td>45.44</td>\n",
       "      <td>49.74</td>\n",
       "    </tr>\n",
       "    <tr>\n",
       "      <th>4</th>\n",
       "      <td>58509</td>\n",
       "      <td>Калужская обл., г. Калуга, ул. Зерновая, 34</td>\n",
       "      <td>43.20</td>\n",
       "      <td>46.40</td>\n",
       "    </tr>\n",
       "  </tbody>\n",
       "</table>\n",
       "</div>"
      ],
      "text/plain": [
       "     Azs                                            Address  Price92  Price95\n",
       "0  56505  Новосибирская обл., г. Новосибирск, ул. Фабрич...    43.30    46.25\n",
       "1  58520  Ростовская обл., Мясниковский р-н, п. Чалтырь,...    45.44     0.00\n",
       "2  58316  Владимирская обл., Судогодский р-н, д. Лаврово...    43.90    47.20\n",
       "3  58519  Ростовская обл., г. Ростов-на-Дону, ул. 40 Лет...    45.44    49.74\n",
       "4  58509        Калужская обл., г. Калуга, ул. Зерновая, 34    43.20    46.40"
      ]
     },
     "execution_count": 55,
     "metadata": {},
     "output_type": "execute_result"
    }
   ],
   "source": [
    "rn = pd.DataFrame.from_dict(adict)\n",
    "rn.head()"
   ]
  },
  {
   "cell_type": "markdown",
   "metadata": {},
   "source": [
    "# Практическая часть.."
   ]
  },
  {
   "cell_type": "code",
   "execution_count": null,
   "metadata": {},
   "outputs": [],
   "source": [
    "# Добавить в таблицу другие виды топлива\n",
    "#----- Ваш код здесь ----"
   ]
  },
  {
   "cell_type": "code",
   "execution_count": null,
   "metadata": {},
   "outputs": [],
   "source": [
    "# Отделить регионы от адреса АЗС\n",
    "#----- Ваш код здесь ----"
   ]
  },
  {
   "cell_type": "code",
   "execution_count": null,
   "metadata": {},
   "outputs": [],
   "source": [
    "# Выбрать АЗС из Белоруссии и сохранить в rnbelarus\n",
    "#----- Ваш код здесь ----"
   ]
  },
  {
   "cell_type": "code",
   "execution_count": null,
   "metadata": {},
   "outputs": [],
   "source": [
    "# Пересчитать цены rnbelarus в рубли\n",
    "#----- Ваш код здесь ----"
   ]
  },
  {
   "cell_type": "code",
   "execution_count": null,
   "metadata": {},
   "outputs": [],
   "source": [
    "# Убрать АЗС из Белоруссии из таблциы rn\n",
    "#----- Ваш код здесь ----"
   ]
  },
  {
   "cell_type": "code",
   "execution_count": null,
   "metadata": {},
   "outputs": [],
   "source": [
    "# Расчитать средние цены на топливо по регионам\n",
    "#----- Ваш код здесь ----"
   ]
  },
  {
   "cell_type": "code",
   "execution_count": null,
   "metadata": {},
   "outputs": [],
   "source": [
    "# Создать директорию regional_prices\n",
    "#----- Ваш код здесь ----"
   ]
  },
  {
   "cell_type": "code",
   "execution_count": null,
   "metadata": {},
   "outputs": [],
   "source": [
    "# Записать в отдельный .csv файл цены для каждого региона. \n",
    "# Разделить должен быть знак табуляции sep='\\t'\n",
    "# Название файла записать как название региона, заменив пробел на _\n",
    "#----- Ваш код здесь ----"
   ]
  },
  {
   "cell_type": "code",
   "execution_count": null,
   "metadata": {},
   "outputs": [],
   "source": [
    "# Выведите содержимое директории в переменную list_of_files\n",
    "#----- Ваш код здесь ----"
   ]
  },
  {
   "cell_type": "code",
   "execution_count": null,
   "metadata": {},
   "outputs": [],
   "source": [
    "# Создайте словарь regional_prices и заполните его таким образом, чтобы\n",
    "# ключ был название файла без .csv, а значения - список строк, счиатанных из файла\n",
    "#----- Ваш код здесь ----"
   ]
  },
  {
   "cell_type": "code",
   "execution_count": null,
   "metadata": {},
   "outputs": [],
   "source": [
    "# Соберите таблицу rnnew из словаря regional_prices\n",
    "#----- Ваш код здесь ----"
   ]
  }
 ],
 "metadata": {
  "kernelspec": {
   "display_name": "Python 3",
   "language": "python",
   "name": "python3"
  },
  "language_info": {
   "codemirror_mode": {
    "name": "ipython",
    "version": 3
   },
   "file_extension": ".py",
   "mimetype": "text/x-python",
   "name": "python",
   "nbconvert_exporter": "python",
   "pygments_lexer": "ipython3",
   "version": "3.8.5"
  }
 },
 "nbformat": 4,
 "nbformat_minor": 2
}