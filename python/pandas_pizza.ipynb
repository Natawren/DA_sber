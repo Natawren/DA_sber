{
 "cells": [
  {
   "cell_type": "markdown",
   "metadata": {},
   "source": [
    "# Про Pandas"
   ]
  },
  {
   "cell_type": "code",
   "execution_count": 1,
   "metadata": {},
   "outputs": [],
   "source": [
    "import pandas as pd\n",
    "import os\n",
    "import numpy as np\n",
    "fpath = os.path.join('data','Datafiniti_Pizza_Restaurants_and_the_Pizza_They_Sell_May19.csv')\n",
    "pizza = pd.read_csv(fpath)"
   ]
  },
  {
   "cell_type": "code",
   "execution_count": 9,
   "metadata": {
    "pycharm": {
     "name": "#%%\n"
    }
   },
   "outputs": [],
   "source": []
  },
  {
   "cell_type": "code",
   "execution_count": 3,
   "metadata": {},
   "outputs": [],
   "source": [
    "# Первые строчки таблицы"
   ]
  },
  {
   "cell_type": "code",
   "execution_count": 2,
   "metadata": {
    "collapsed": true
   },
   "outputs": [
    {
     "name": "stdout",
     "output_type": "stream",
     "text": [
      "<class 'pandas.core.frame.DataFrame'>\n",
      "RangeIndex: 10000 entries, 0 to 9999\n",
      "Data columns (total 24 columns):\n",
      "id                    10000 non-null object\n",
      "dateAdded             10000 non-null object\n",
      "dateUpdated           10000 non-null object\n",
      "address               10000 non-null object\n",
      "categories            10000 non-null object\n",
      "primaryCategories     10000 non-null object\n",
      "city                  10000 non-null object\n",
      "country               10000 non-null object\n",
      "keys                  10000 non-null object\n",
      "latitude              10000 non-null float64\n",
      "longitude             10000 non-null float64\n",
      "menuPageURL           1679 non-null object\n",
      "menus.amountMax       10000 non-null float64\n",
      "menus.amountMin       10000 non-null float64\n",
      "menus.currency        10000 non-null object\n",
      "menus.dateSeen        10000 non-null object\n",
      "menus.description     3718 non-null object\n",
      "menus.name            10000 non-null object\n",
      "name                  10000 non-null object\n",
      "postalCode            9996 non-null object\n",
      "priceRangeCurrency    10000 non-null object\n",
      "priceRangeMin         10000 non-null int64\n",
      "priceRangeMax         10000 non-null int64\n",
      "province              10000 non-null object\n",
      "dtypes: float64(4), int64(2), object(18)\n",
      "memory usage: 1.8+ MB\n"
     ]
    }
   ],
   "source": [
    "# Информация о таблице\n",
    "pizza.info()"
   ]
  },
  {
   "cell_type": "code",
   "execution_count": 3,
   "metadata": {},
   "outputs": [],
   "source": [
    "# Если нужно удалить колонки\n",
    "pizza = pizza.drop(['address','dateUpdated'], axis=1)"
   ]
  },
  {
   "cell_type": "code",
   "execution_count": 4,
   "metadata": {
    "collapsed": true
   },
   "outputs": [
    {
     "data": {
      "text/html": [
       "<div>\n",
       "<style scoped>\n",
       "    .dataframe tbody tr th:only-of-type {\n",
       "        vertical-align: middle;\n",
       "    }\n",
       "\n",
       "    .dataframe tbody tr th {\n",
       "        vertical-align: top;\n",
       "    }\n",
       "\n",
       "    .dataframe thead th {\n",
       "        text-align: right;\n",
       "    }\n",
       "</style>\n",
       "<table border=\"1\" class=\"dataframe\">\n",
       "  <thead>\n",
       "    <tr style=\"text-align: right;\">\n",
       "      <th></th>\n",
       "      <th>id</th>\n",
       "      <th>dateAdded</th>\n",
       "      <th>categories</th>\n",
       "      <th>primaryCategories</th>\n",
       "      <th>city</th>\n",
       "      <th>country</th>\n",
       "      <th>keys</th>\n",
       "      <th>latitude</th>\n",
       "      <th>longitude</th>\n",
       "      <th>menuPageURL</th>\n",
       "      <th>...</th>\n",
       "      <th>menus.currency</th>\n",
       "      <th>menus.dateSeen</th>\n",
       "      <th>menus.description</th>\n",
       "      <th>menus.name</th>\n",
       "      <th>name</th>\n",
       "      <th>postalCode</th>\n",
       "      <th>priceRangeCurrency</th>\n",
       "      <th>priceRangeMin</th>\n",
       "      <th>priceRangeMax</th>\n",
       "      <th>province</th>\n",
       "    </tr>\n",
       "  </thead>\n",
       "  <tbody>\n",
       "    <tr>\n",
       "      <th>0</th>\n",
       "      <td>AVz3Y-7h3D1zeR_xDAqm</td>\n",
       "      <td>2017-06-30T05:05:40Z</td>\n",
       "      <td>Pizza,Restaurant,American restaurants,Pizza Pl...</td>\n",
       "      <td>Accommodation &amp; Food Services</td>\n",
       "      <td>Sherwood</td>\n",
       "      <td>US</td>\n",
       "      <td>us/ar/sherwood/4203ekiehlave/-1051391616</td>\n",
       "      <td>34.832300</td>\n",
       "      <td>-92.183800</td>\n",
       "      <td>http://www.citysearch.com/profile/menu/1550074...</td>\n",
       "      <td>...</td>\n",
       "      <td>USD</td>\n",
       "      <td>2018-05-01T04:25:37.197Z,2018-04-16T04:36:02.3...</td>\n",
       "      <td>NaN</td>\n",
       "      <td>Cheese Pizza</td>\n",
       "      <td>Shotgun Dans Pizza</td>\n",
       "      <td>72120</td>\n",
       "      <td>USD</td>\n",
       "      <td>0</td>\n",
       "      <td>25</td>\n",
       "      <td>AR</td>\n",
       "    </tr>\n",
       "    <tr>\n",
       "      <th>1</th>\n",
       "      <td>AVweGPFF_7pvs4fzAAzQ</td>\n",
       "      <td>2016-04-02T04:02:49Z</td>\n",
       "      <td>Pizza,Pizza Place,Restaurants</td>\n",
       "      <td>Accommodation &amp; Food Services</td>\n",
       "      <td>Phoenix</td>\n",
       "      <td>US</td>\n",
       "      <td>us/az/phoenix/25ecamelbackrd/-727422936</td>\n",
       "      <td>33.509266</td>\n",
       "      <td>-112.073044</td>\n",
       "      <td>NaN</td>\n",
       "      <td>...</td>\n",
       "      <td>USD</td>\n",
       "      <td>2018-03-03T02:38:06.381Z,2018-01-18T20:18:10.0...</td>\n",
       "      <td>NaN</td>\n",
       "      <td>Pizza Cookie</td>\n",
       "      <td>Sauce Pizza Wine</td>\n",
       "      <td>85012</td>\n",
       "      <td>USD</td>\n",
       "      <td>0</td>\n",
       "      <td>25</td>\n",
       "      <td>AZ</td>\n",
       "    </tr>\n",
       "    <tr>\n",
       "      <th>2</th>\n",
       "      <td>AVwdRGa9_7pvs4fz4E3K</td>\n",
       "      <td>2016-03-03T18:39:49Z</td>\n",
       "      <td>Restaurant,Pizza Place,Restaurants</td>\n",
       "      <td>Accommodation &amp; Food Services</td>\n",
       "      <td>Cincinnati</td>\n",
       "      <td>US</td>\n",
       "      <td>us/oh/cincinnati/3703paxtonave/-619797122</td>\n",
       "      <td>39.144883</td>\n",
       "      <td>-84.432685</td>\n",
       "      <td>http://www.citysearch.com/profile/menu/8160503...</td>\n",
       "      <td>...</td>\n",
       "      <td>USD</td>\n",
       "      <td>2018-04-10T07:58:34.585Z,2018-04-21T05:43:21.4...</td>\n",
       "      <td>a saucelessampcomma double cheese pizza with a...</td>\n",
       "      <td>Pizza Blanca</td>\n",
       "      <td>Mios Pizzeria</td>\n",
       "      <td>45209</td>\n",
       "      <td>USD</td>\n",
       "      <td>0</td>\n",
       "      <td>25</td>\n",
       "      <td>OH</td>\n",
       "    </tr>\n",
       "    <tr>\n",
       "      <th>3</th>\n",
       "      <td>AVwdX4psIN2L1WUfvJB1</td>\n",
       "      <td>2016-03-29T05:08:59Z</td>\n",
       "      <td>Pizza,Carry-out food,Pizza Place,Restaurants</td>\n",
       "      <td>Accommodation &amp; Food Services</td>\n",
       "      <td>Madison Heights</td>\n",
       "      <td>US</td>\n",
       "      <td>us/mi/madisonheights/30495johnrrd/-874863116</td>\n",
       "      <td>42.516669</td>\n",
       "      <td>-83.106630</td>\n",
       "      <td>NaN</td>\n",
       "      <td>...</td>\n",
       "      <td>USD</td>\n",
       "      <td>2016-10-20T21:50:02Z,2016-03-29T05:08:59Z</td>\n",
       "      <td>NaN</td>\n",
       "      <td>Small Pizza</td>\n",
       "      <td>Hungry Howies Pizza</td>\n",
       "      <td>48071</td>\n",
       "      <td>USD</td>\n",
       "      <td>25</td>\n",
       "      <td>40</td>\n",
       "      <td>MI</td>\n",
       "    </tr>\n",
       "    <tr>\n",
       "      <th>4</th>\n",
       "      <td>AVwdaeTtkufWRAb55pSH</td>\n",
       "      <td>2016-03-31T02:34:04Z</td>\n",
       "      <td>Pizza,American restaurants,Pizza Place,Pizza e...</td>\n",
       "      <td>Accommodation &amp; Food Services</td>\n",
       "      <td>Baltimore</td>\n",
       "      <td>US</td>\n",
       "      <td>us/md/baltimore/3600easternave/-1270965359</td>\n",
       "      <td>39.286630</td>\n",
       "      <td>-76.566984</td>\n",
       "      <td>NaN</td>\n",
       "      <td>...</td>\n",
       "      <td>USD</td>\n",
       "      <td>2016-03-31T02:34:04Z</td>\n",
       "      <td>NaN</td>\n",
       "      <td>Pizza Sub</td>\n",
       "      <td>Spartan Pizzeria</td>\n",
       "      <td>21224</td>\n",
       "      <td>USD</td>\n",
       "      <td>0</td>\n",
       "      <td>25</td>\n",
       "      <td>MD</td>\n",
       "    </tr>\n",
       "  </tbody>\n",
       "</table>\n",
       "<p>5 rows × 22 columns</p>\n",
       "</div>"
      ],
      "text/plain": [
       "                     id             dateAdded  \\\n",
       "0  AVz3Y-7h3D1zeR_xDAqm  2017-06-30T05:05:40Z   \n",
       "1  AVweGPFF_7pvs4fzAAzQ  2016-04-02T04:02:49Z   \n",
       "2  AVwdRGa9_7pvs4fz4E3K  2016-03-03T18:39:49Z   \n",
       "3  AVwdX4psIN2L1WUfvJB1  2016-03-29T05:08:59Z   \n",
       "4  AVwdaeTtkufWRAb55pSH  2016-03-31T02:34:04Z   \n",
       "\n",
       "                                          categories  \\\n",
       "0  Pizza,Restaurant,American restaurants,Pizza Pl...   \n",
       "1                      Pizza,Pizza Place,Restaurants   \n",
       "2                 Restaurant,Pizza Place,Restaurants   \n",
       "3       Pizza,Carry-out food,Pizza Place,Restaurants   \n",
       "4  Pizza,American restaurants,Pizza Place,Pizza e...   \n",
       "\n",
       "               primaryCategories             city country  \\\n",
       "0  Accommodation & Food Services         Sherwood      US   \n",
       "1  Accommodation & Food Services          Phoenix      US   \n",
       "2  Accommodation & Food Services       Cincinnati      US   \n",
       "3  Accommodation & Food Services  Madison Heights      US   \n",
       "4  Accommodation & Food Services        Baltimore      US   \n",
       "\n",
       "                                           keys   latitude   longitude  \\\n",
       "0      us/ar/sherwood/4203ekiehlave/-1051391616  34.832300  -92.183800   \n",
       "1       us/az/phoenix/25ecamelbackrd/-727422936  33.509266 -112.073044   \n",
       "2     us/oh/cincinnati/3703paxtonave/-619797122  39.144883  -84.432685   \n",
       "3  us/mi/madisonheights/30495johnrrd/-874863116  42.516669  -83.106630   \n",
       "4    us/md/baltimore/3600easternave/-1270965359  39.286630  -76.566984   \n",
       "\n",
       "                                         menuPageURL  ...  menus.currency  \\\n",
       "0  http://www.citysearch.com/profile/menu/1550074...  ...             USD   \n",
       "1                                                NaN  ...             USD   \n",
       "2  http://www.citysearch.com/profile/menu/8160503...  ...             USD   \n",
       "3                                                NaN  ...             USD   \n",
       "4                                                NaN  ...             USD   \n",
       "\n",
       "                                      menus.dateSeen  \\\n",
       "0  2018-05-01T04:25:37.197Z,2018-04-16T04:36:02.3...   \n",
       "1  2018-03-03T02:38:06.381Z,2018-01-18T20:18:10.0...   \n",
       "2  2018-04-10T07:58:34.585Z,2018-04-21T05:43:21.4...   \n",
       "3          2016-10-20T21:50:02Z,2016-03-29T05:08:59Z   \n",
       "4                               2016-03-31T02:34:04Z   \n",
       "\n",
       "                                   menus.description    menus.name  \\\n",
       "0                                                NaN  Cheese Pizza   \n",
       "1                                                NaN  Pizza Cookie   \n",
       "2  a saucelessampcomma double cheese pizza with a...  Pizza Blanca   \n",
       "3                                                NaN   Small Pizza   \n",
       "4                                                NaN     Pizza Sub   \n",
       "\n",
       "                  name postalCode priceRangeCurrency priceRangeMin  \\\n",
       "0   Shotgun Dans Pizza      72120                USD             0   \n",
       "1     Sauce Pizza Wine      85012                USD             0   \n",
       "2        Mios Pizzeria      45209                USD             0   \n",
       "3  Hungry Howies Pizza      48071                USD            25   \n",
       "4     Spartan Pizzeria      21224                USD             0   \n",
       "\n",
       "  priceRangeMax  province  \n",
       "0            25        AR  \n",
       "1            25        AZ  \n",
       "2            25        OH  \n",
       "3            40        MI  \n",
       "4            25        MD  \n",
       "\n",
       "[5 rows x 22 columns]"
      ]
     },
     "execution_count": 4,
     "metadata": {},
     "output_type": "execute_result"
    }
   ],
   "source": [
    "pizza.head()"
   ]
  },
  {
   "cell_type": "code",
   "execution_count": 5,
   "metadata": {
    "collapsed": true
   },
   "outputs": [
    {
     "data": {
      "text/plain": [
       "Index(['id', 'dateAdded', 'categories', 'primaryCategories', 'city', 'country',\n",
       "       'keys', 'latitude', 'longitude', 'menuPageURL', 'menus.amountMax',\n",
       "       'menus.amountMin', 'menus.currency', 'menus.dateSeen',\n",
       "       'menus.description', 'menus.name', 'name', 'postalCode',\n",
       "       'priceRangeCurrency', 'priceRangeMin', 'priceRangeMax', 'province'],\n",
       "      dtype='object')"
      ]
     },
     "execution_count": 5,
     "metadata": {},
     "output_type": "execute_result"
    }
   ],
   "source": [
    "# Выводим названия колонок\n",
    "pizza.columns"
   ]
  },
  {
   "cell_type": "code",
   "execution_count": 8,
   "metadata": {},
   "outputs": [],
   "source": [
    "# Количество уникальных значений в колонке\n",
    "pizza['pizzeria_name_len'] = pizza.name.apply(lambda x:len(x) )"
   ]
  },
  {
   "cell_type": "code",
   "execution_count": 9,
   "metadata": {},
   "outputs": [],
   "source": [
    "# pizza[['menus.description', 'menus.name']]"
   ]
  },
  {
   "cell_type": "code",
   "execution_count": 2,
   "metadata": {},
   "outputs": [],
   "source": []
  },
  {
   "cell_type": "code",
   "execution_count": 7,
   "metadata": {},
   "outputs": [
    {
     "data": {
      "text/plain": [
       "array(['Shotgun Dans Pizza', 'Sauce Pizza Wine', 'Mios Pizzeria', ...,\n",
       "       'Bella Italia', 'Wood and Fire', \"Carbone's Pizzeria\"],\n",
       "      dtype=object)"
      ]
     },
     "execution_count": 7,
     "metadata": {},
     "output_type": "execute_result"
    }
   ],
   "source": [
    "# Уникальные значения в колонке\n",
    "pizza.name.unique()#.tolist()"
   ]
  },
  {
   "cell_type": "code",
   "execution_count": 9,
   "metadata": {
    "collapsed": true
   },
   "outputs": [
    {
     "data": {
      "text/html": [
       "<div>\n",
       "<style scoped>\n",
       "    .dataframe tbody tr th:only-of-type {\n",
       "        vertical-align: middle;\n",
       "    }\n",
       "\n",
       "    .dataframe tbody tr th {\n",
       "        vertical-align: top;\n",
       "    }\n",
       "\n",
       "    .dataframe thead th {\n",
       "        text-align: right;\n",
       "    }\n",
       "</style>\n",
       "<table border=\"1\" class=\"dataframe\">\n",
       "  <thead>\n",
       "    <tr style=\"text-align: right;\">\n",
       "      <th></th>\n",
       "      <th>province</th>\n",
       "      <th>name</th>\n",
       "    </tr>\n",
       "  </thead>\n",
       "  <tbody>\n",
       "    <tr>\n",
       "      <th>0</th>\n",
       "      <td>AK</td>\n",
       "      <td>3</td>\n",
       "    </tr>\n",
       "    <tr>\n",
       "      <th>1</th>\n",
       "      <td>AL</td>\n",
       "      <td>3</td>\n",
       "    </tr>\n",
       "    <tr>\n",
       "      <th>2</th>\n",
       "      <td>AR</td>\n",
       "      <td>10</td>\n",
       "    </tr>\n",
       "    <tr>\n",
       "      <th>3</th>\n",
       "      <td>AZ</td>\n",
       "      <td>50</td>\n",
       "    </tr>\n",
       "    <tr>\n",
       "      <th>4</th>\n",
       "      <td>CA</td>\n",
       "      <td>219</td>\n",
       "    </tr>\n",
       "    <tr>\n",
       "      <th>5</th>\n",
       "      <td>CO</td>\n",
       "      <td>35</td>\n",
       "    </tr>\n",
       "    <tr>\n",
       "      <th>6</th>\n",
       "      <td>CT</td>\n",
       "      <td>1</td>\n",
       "    </tr>\n",
       "    <tr>\n",
       "      <th>7</th>\n",
       "      <td>DE</td>\n",
       "      <td>7</td>\n",
       "    </tr>\n",
       "    <tr>\n",
       "      <th>8</th>\n",
       "      <td>FL</td>\n",
       "      <td>145</td>\n",
       "    </tr>\n",
       "    <tr>\n",
       "      <th>9</th>\n",
       "      <td>GA</td>\n",
       "      <td>53</td>\n",
       "    </tr>\n",
       "    <tr>\n",
       "      <th>10</th>\n",
       "      <td>HI</td>\n",
       "      <td>1</td>\n",
       "    </tr>\n",
       "    <tr>\n",
       "      <th>11</th>\n",
       "      <td>IA</td>\n",
       "      <td>15</td>\n",
       "    </tr>\n",
       "    <tr>\n",
       "      <th>12</th>\n",
       "      <td>ID</td>\n",
       "      <td>4</td>\n",
       "    </tr>\n",
       "    <tr>\n",
       "      <th>13</th>\n",
       "      <td>IL</td>\n",
       "      <td>111</td>\n",
       "    </tr>\n",
       "    <tr>\n",
       "      <th>14</th>\n",
       "      <td>IN</td>\n",
       "      <td>52</td>\n",
       "    </tr>\n",
       "    <tr>\n",
       "      <th>15</th>\n",
       "      <td>KS</td>\n",
       "      <td>12</td>\n",
       "    </tr>\n",
       "    <tr>\n",
       "      <th>16</th>\n",
       "      <td>KY</td>\n",
       "      <td>21</td>\n",
       "    </tr>\n",
       "    <tr>\n",
       "      <th>17</th>\n",
       "      <td>LA</td>\n",
       "      <td>10</td>\n",
       "    </tr>\n",
       "    <tr>\n",
       "      <th>18</th>\n",
       "      <td>MD</td>\n",
       "      <td>32</td>\n",
       "    </tr>\n",
       "    <tr>\n",
       "      <th>19</th>\n",
       "      <td>MI</td>\n",
       "      <td>79</td>\n",
       "    </tr>\n",
       "    <tr>\n",
       "      <th>20</th>\n",
       "      <td>MN</td>\n",
       "      <td>23</td>\n",
       "    </tr>\n",
       "    <tr>\n",
       "      <th>21</th>\n",
       "      <td>MO</td>\n",
       "      <td>28</td>\n",
       "    </tr>\n",
       "    <tr>\n",
       "      <th>22</th>\n",
       "      <td>MS</td>\n",
       "      <td>7</td>\n",
       "    </tr>\n",
       "    <tr>\n",
       "      <th>23</th>\n",
       "      <td>MT</td>\n",
       "      <td>1</td>\n",
       "    </tr>\n",
       "    <tr>\n",
       "      <th>24</th>\n",
       "      <td>NC</td>\n",
       "      <td>62</td>\n",
       "    </tr>\n",
       "    <tr>\n",
       "      <th>25</th>\n",
       "      <td>ND</td>\n",
       "      <td>1</td>\n",
       "    </tr>\n",
       "    <tr>\n",
       "      <th>26</th>\n",
       "      <td>NE</td>\n",
       "      <td>9</td>\n",
       "    </tr>\n",
       "    <tr>\n",
       "      <th>27</th>\n",
       "      <td>NJ</td>\n",
       "      <td>1</td>\n",
       "    </tr>\n",
       "    <tr>\n",
       "      <th>28</th>\n",
       "      <td>NM</td>\n",
       "      <td>11</td>\n",
       "    </tr>\n",
       "    <tr>\n",
       "      <th>29</th>\n",
       "      <td>NV</td>\n",
       "      <td>19</td>\n",
       "    </tr>\n",
       "    <tr>\n",
       "      <th>30</th>\n",
       "      <td>NY</td>\n",
       "      <td>395</td>\n",
       "    </tr>\n",
       "    <tr>\n",
       "      <th>31</th>\n",
       "      <td>OH</td>\n",
       "      <td>82</td>\n",
       "    </tr>\n",
       "    <tr>\n",
       "      <th>32</th>\n",
       "      <td>OK</td>\n",
       "      <td>11</td>\n",
       "    </tr>\n",
       "    <tr>\n",
       "      <th>33</th>\n",
       "      <td>OR</td>\n",
       "      <td>28</td>\n",
       "    </tr>\n",
       "    <tr>\n",
       "      <th>34</th>\n",
       "      <td>PA</td>\n",
       "      <td>172</td>\n",
       "    </tr>\n",
       "    <tr>\n",
       "      <th>35</th>\n",
       "      <td>SC</td>\n",
       "      <td>26</td>\n",
       "    </tr>\n",
       "    <tr>\n",
       "      <th>36</th>\n",
       "      <td>SD</td>\n",
       "      <td>2</td>\n",
       "    </tr>\n",
       "    <tr>\n",
       "      <th>37</th>\n",
       "      <td>TN</td>\n",
       "      <td>25</td>\n",
       "    </tr>\n",
       "    <tr>\n",
       "      <th>38</th>\n",
       "      <td>TX</td>\n",
       "      <td>117</td>\n",
       "    </tr>\n",
       "    <tr>\n",
       "      <th>39</th>\n",
       "      <td>UT</td>\n",
       "      <td>15</td>\n",
       "    </tr>\n",
       "    <tr>\n",
       "      <th>40</th>\n",
       "      <td>VA</td>\n",
       "      <td>52</td>\n",
       "    </tr>\n",
       "    <tr>\n",
       "      <th>41</th>\n",
       "      <td>WA</td>\n",
       "      <td>49</td>\n",
       "    </tr>\n",
       "    <tr>\n",
       "      <th>42</th>\n",
       "      <td>WI</td>\n",
       "      <td>32</td>\n",
       "    </tr>\n",
       "    <tr>\n",
       "      <th>43</th>\n",
       "      <td>WV</td>\n",
       "      <td>6</td>\n",
       "    </tr>\n",
       "  </tbody>\n",
       "</table>\n",
       "</div>"
      ],
      "text/plain": [
       "   province  name\n",
       "0        AK     3\n",
       "1        AL     3\n",
       "2        AR    10\n",
       "3        AZ    50\n",
       "4        CA   219\n",
       "5        CO    35\n",
       "6        CT     1\n",
       "7        DE     7\n",
       "8        FL   145\n",
       "9        GA    53\n",
       "10       HI     1\n",
       "11       IA    15\n",
       "12       ID     4\n",
       "13       IL   111\n",
       "14       IN    52\n",
       "15       KS    12\n",
       "16       KY    21\n",
       "17       LA    10\n",
       "18       MD    32\n",
       "19       MI    79\n",
       "20       MN    23\n",
       "21       MO    28\n",
       "22       MS     7\n",
       "23       MT     1\n",
       "24       NC    62\n",
       "25       ND     1\n",
       "26       NE     9\n",
       "27       NJ     1\n",
       "28       NM    11\n",
       "29       NV    19\n",
       "30       NY   395\n",
       "31       OH    82\n",
       "32       OK    11\n",
       "33       OR    28\n",
       "34       PA   172\n",
       "35       SC    26\n",
       "36       SD     2\n",
       "37       TN    25\n",
       "38       TX   117\n",
       "39       UT    15\n",
       "40       VA    52\n",
       "41       WA    49\n",
       "42       WI    32\n",
       "43       WV     6"
      ]
     },
     "execution_count": 9,
     "metadata": {},
     "output_type": "execute_result"
    }
   ],
   "source": [
    "# Группируем с помощью groupby\n",
    "# количество уникальных названий по регионам \n",
    "pizzaz_by_province = pizza.groupby(['province'])['name'].nunique().reset_index()\n",
    "pizzaz_by_province"
   ]
  },
  {
   "cell_type": "code",
   "execution_count": 86,
   "metadata": {},
   "outputs": [],
   "source": [
    "# pizzaz_by_province"
   ]
  },
  {
   "cell_type": "code",
   "execution_count": 13,
   "metadata": {},
   "outputs": [
    {
     "data": {
      "text/plain": [
       "Index(['province', 'name'], dtype='object')"
      ]
     },
     "execution_count": 13,
     "metadata": {},
     "output_type": "execute_result"
    }
   ],
   "source": [
    "# проверяем названия колонок\n",
    "pizzaz_by_province.columns"
   ]
  },
  {
   "cell_type": "code",
   "execution_count": 14,
   "metadata": {},
   "outputs": [],
   "source": [
    "# Меняем названия на те что нам нравятся\n",
    "pizzaz_by_province.columns = ['province','quantity']"
   ]
  },
  {
   "cell_type": "code",
   "execution_count": 15,
   "metadata": {},
   "outputs": [],
   "source": [
    "pizzaz_by_province.rename(columns={'name':'quantity'}, inplace=True)"
   ]
  },
  {
   "cell_type": "code",
   "execution_count": 17,
   "metadata": {},
   "outputs": [],
   "source": [
    "# pizzaz_by_province"
   ]
  },
  {
   "cell_type": "code",
   "execution_count": 18,
   "metadata": {},
   "outputs": [],
   "source": [
    "# Сортируем по полю quantity\n",
    "pizzaz_by_province = pizzaz_by_province.sort_values(by=['quantity'], ascending=[False])"
   ]
  },
  {
   "cell_type": "code",
   "execution_count": null,
   "metadata": {},
   "outputs": [],
   "source": []
  },
  {
   "cell_type": "code",
   "execution_count": 102,
   "metadata": {},
   "outputs": [],
   "source": [
    "# Размечаем те регионы, где много пиццерий с помощью numpy\n",
    "# pizzaz_by_province['many_or_not_many_pd'] = np.where(pizzaz_by_province['quantity']> 100,1,0)"
   ]
  },
  {
   "cell_type": "code",
   "execution_count": null,
   "metadata": {},
   "outputs": [],
   "source": []
  },
  {
   "cell_type": "code",
   "execution_count": 26,
   "metadata": {},
   "outputs": [
    {
     "data": {
      "text/plain": [
       "13"
      ]
     },
     "execution_count": 26,
     "metadata": {},
     "output_type": "execute_result"
    }
   ],
   "source": [
    "# Размечаем те регионы, где много пиццерий с помощью pandas\n",
    "\n",
    "# Неправильный вариант\n",
    "# pizzaz_by_province[pizzaz_by_province['quantity'] > 100]['many_or_not_many_pd'] = 1\n",
    "# pizzaz_by_province[pizzaz_by_province['quantity'] <=100]['many_or_not_many_pd'] = 0\n",
    "\n",
    "# Правильный вариант\n",
    "pizzaz_by_province['less_10'] = 0\n",
    "pizzaz_by_province.loc[pizzaz_by_province['quantity'] < 10, 'less_10' ] = 1\n",
    "pizzaz_by_province.less_10.sum()"
   ]
  },
  {
   "cell_type": "code",
   "execution_count": 29,
   "metadata": {},
   "outputs": [],
   "source": [
    "less_10_provinces = pizzaz_by_province.loc[pizzaz_by_province['quantity'] < 10, 'province' ].tolist()"
   ]
  },
  {
   "cell_type": "code",
   "execution_count": 20,
   "metadata": {},
   "outputs": [],
   "source": [
    "# Меняем тип данных в колонке"
   ]
  },
  {
   "cell_type": "code",
   "execution_count": 21,
   "metadata": {},
   "outputs": [],
   "source": [
    "# Рассчитываем сумму или среднее значение по колонке"
   ]
  },
  {
   "cell_type": "code",
   "execution_count": 22,
   "metadata": {},
   "outputs": [],
   "source": [
    "# Применение функции к элекментам колонки"
   ]
  },
  {
   "cell_type": "code",
   "execution_count": 104,
   "metadata": {},
   "outputs": [],
   "source": [
    "def qdevtwo(x):\n",
    "    if int(x) % 2 == 0:\n",
    "        return 1\n",
    "    else:\n",
    "        return 0\n",
    "        \n",
    "pizzaz_by_province['dev2'] = pizzaz_by_province.quantity.apply(lambda x: qdevtwo(x))"
   ]
  },
  {
   "cell_type": "code",
   "execution_count": 105,
   "metadata": {},
   "outputs": [],
   "source": [
    "pizzaz_by_province['dev2'] = pizzaz_by_province.quantity.apply(qdevtwo)"
   ]
  },
  {
   "cell_type": "code",
   "execution_count": 23,
   "metadata": {},
   "outputs": [
    {
     "data": {
      "text/html": [
       "<div>\n",
       "<style scoped>\n",
       "    .dataframe tbody tr th:only-of-type {\n",
       "        vertical-align: middle;\n",
       "    }\n",
       "\n",
       "    .dataframe tbody tr th {\n",
       "        vertical-align: top;\n",
       "    }\n",
       "\n",
       "    .dataframe thead th {\n",
       "        text-align: right;\n",
       "    }\n",
       "</style>\n",
       "<table border=\"1\" class=\"dataframe\">\n",
       "  <thead>\n",
       "    <tr style=\"text-align: right;\">\n",
       "      <th></th>\n",
       "      <th>province</th>\n",
       "      <th>quantity</th>\n",
       "      <th>many_or_not_many_pd</th>\n",
       "    </tr>\n",
       "  </thead>\n",
       "  <tbody>\n",
       "    <tr>\n",
       "      <th>30</th>\n",
       "      <td>NY</td>\n",
       "      <td>395</td>\n",
       "      <td>1.0</td>\n",
       "    </tr>\n",
       "    <tr>\n",
       "      <th>4</th>\n",
       "      <td>CA</td>\n",
       "      <td>219</td>\n",
       "      <td>1.0</td>\n",
       "    </tr>\n",
       "    <tr>\n",
       "      <th>34</th>\n",
       "      <td>PA</td>\n",
       "      <td>172</td>\n",
       "      <td>1.0</td>\n",
       "    </tr>\n",
       "  </tbody>\n",
       "</table>\n",
       "</div>"
      ],
      "text/plain": [
       "   province  quantity  many_or_not_many_pd\n",
       "30       NY       395                  1.0\n",
       "4        CA       219                  1.0\n",
       "34       PA       172                  1.0"
      ]
     },
     "execution_count": 23,
     "metadata": {},
     "output_type": "execute_result"
    }
   ],
   "source": [
    "pizzaz_by_province.head(3)"
   ]
  },
  {
   "cell_type": "code",
   "execution_count": 1,
   "metadata": {},
   "outputs": [],
   "source": [
    "# pizzaz_by_province.iloc[1,:]"
   ]
  },
  {
   "cell_type": "code",
   "execution_count": null,
   "metadata": {},
   "outputs": [],
   "source": []
  },
  {
   "cell_type": "code",
   "execution_count": null,
   "metadata": {},
   "outputs": [],
   "source": []
  },
  {
   "cell_type": "code",
   "execution_count": null,
   "metadata": {},
   "outputs": [],
   "source": []
  },
  {
   "cell_type": "code",
   "execution_count": 248,
   "metadata": {},
   "outputs": [],
   "source": [
    "# Альтернативный вариант\n",
    "dev2list = []\n",
    "for i in range(pizzaz_by_province.shape[0]):\n",
    "    val =  pizzaz_by_province.iloc[i,1]\n",
    "    dev2list.append(qdevtwo(val))\n",
    "\n",
    "pizzaz_by_province['dev2_loop'] = dev2list"
   ]
  },
  {
   "cell_type": "code",
   "execution_count": 251,
   "metadata": {},
   "outputs": [
    {
     "data": {
      "text/html": [
       "<div>\n",
       "<style scoped>\n",
       "    .dataframe tbody tr th:only-of-type {\n",
       "        vertical-align: middle;\n",
       "    }\n",
       "\n",
       "    .dataframe tbody tr th {\n",
       "        vertical-align: top;\n",
       "    }\n",
       "\n",
       "    .dataframe thead th {\n",
       "        text-align: right;\n",
       "    }\n",
       "</style>\n",
       "<table border=\"1\" class=\"dataframe\">\n",
       "  <thead>\n",
       "    <tr style=\"text-align: right;\">\n",
       "      <th></th>\n",
       "      <th>province</th>\n",
       "      <th>quantity</th>\n",
       "      <th>many_or_not_many</th>\n",
       "      <th>many_or_not_many_pd</th>\n",
       "      <th>dev2</th>\n",
       "      <th>dev2_loop</th>\n",
       "    </tr>\n",
       "  </thead>\n",
       "  <tbody>\n",
       "    <tr>\n",
       "      <th>30</th>\n",
       "      <td>NY</td>\n",
       "      <td>395</td>\n",
       "      <td>1</td>\n",
       "      <td>1</td>\n",
       "      <td>0</td>\n",
       "      <td>0</td>\n",
       "    </tr>\n",
       "    <tr>\n",
       "      <th>4</th>\n",
       "      <td>CA</td>\n",
       "      <td>219</td>\n",
       "      <td>1</td>\n",
       "      <td>1</td>\n",
       "      <td>0</td>\n",
       "      <td>0</td>\n",
       "    </tr>\n",
       "    <tr>\n",
       "      <th>34</th>\n",
       "      <td>PA</td>\n",
       "      <td>172</td>\n",
       "      <td>1</td>\n",
       "      <td>1</td>\n",
       "      <td>1</td>\n",
       "      <td>1</td>\n",
       "    </tr>\n",
       "    <tr>\n",
       "      <th>8</th>\n",
       "      <td>FL</td>\n",
       "      <td>145</td>\n",
       "      <td>1</td>\n",
       "      <td>1</td>\n",
       "      <td>0</td>\n",
       "      <td>0</td>\n",
       "    </tr>\n",
       "    <tr>\n",
       "      <th>38</th>\n",
       "      <td>TX</td>\n",
       "      <td>117</td>\n",
       "      <td>1</td>\n",
       "      <td>1</td>\n",
       "      <td>0</td>\n",
       "      <td>0</td>\n",
       "    </tr>\n",
       "  </tbody>\n",
       "</table>\n",
       "</div>"
      ],
      "text/plain": [
       "   province  quantity  many_or_not_many  many_or_not_many_pd  dev2  dev2_loop\n",
       "30       NY       395                 1                    1     0          0\n",
       "4        CA       219                 1                    1     0          0\n",
       "34       PA       172                 1                    1     1          1\n",
       "8        FL       145                 1                    1     0          0\n",
       "38       TX       117                 1                    1     0          0"
      ]
     },
     "execution_count": 251,
     "metadata": {},
     "output_type": "execute_result"
    }
   ],
   "source": [
    "pizzaz_by_province.head()"
   ]
  },
  {
   "cell_type": "code",
   "execution_count": 135,
   "metadata": {},
   "outputs": [
    {
     "data": {
      "text/plain": [
       "(10000, 24)"
      ]
     },
     "execution_count": 135,
     "metadata": {},
     "output_type": "execute_result"
    }
   ],
   "source": [
    "pizza.shape"
   ]
  },
  {
   "cell_type": "markdown",
   "metadata": {},
   "source": [
    "# Практическое задание"
   ]
  },
  {
   "cell_type": "code",
   "execution_count": 132,
   "metadata": {},
   "outputs": [],
   "source": [
    "#1. Взять датасет c пицериями и ублать лишние колонки :\n",
    "to_delete = [ 'dateAdded', 'keys',\n",
    " 'latitude', 'longitude','menuPageURL', 'menus.amountMax',\n",
    " 'menus.amountMin', 'postalCode', 'priceRangeCurrency']"
   ]
  },
  {
   "cell_type": "code",
   "execution_count": null,
   "metadata": {},
   "outputs": [],
   "source": [
    "# 2. Заменить значения в колонке country c US на RU\n",
    "#----- Ваш код здесь ----"
   ]
  },
  {
   "cell_type": "code",
   "execution_count": null,
   "metadata": {},
   "outputs": [],
   "source": [
    "# 4. Рассчитайте количество пицерий в городе 'Santa Barbara' в переменную sb_pizza_num\n",
    "#----- Ваш код здесь ----"
   ]
  },
  {
   "cell_type": "code",
   "execution_count": null,
   "metadata": {},
   "outputs": [],
   "source": [
    "# 5. Рассчитайте количество пицерий в Калифорнии (province == CA) в ca_pizza_num\n",
    "#----- Ваш код здесь ----"
   ]
  },
  {
   "cell_type": "code",
   "execution_count": null,
   "metadata": {},
   "outputs": [],
   "source": [
    "# 6. Рассчитайте и выведите долю 'Santa Barbara' в пицериях Калифорнии\n",
    "#----- Ваш код здесь ----"
   ]
  },
  {
   "cell_type": "code",
   "execution_count": null,
   "metadata": {},
   "outputs": [],
   "source": [
    "# 7. Рассчитайте средние значения priceRangeMin и priceRangeMax по primaryCategories\n",
    "#----- Ваш код здесь ----"
   ]
  },
  {
   "cell_type": "code",
   "execution_count": null,
   "metadata": {},
   "outputs": [],
   "source": [
    "# 8. Выведите топ-5 самых популярных названий пицц по menus.name\n",
    "#----- Ваш код здесь ----"
   ]
  },
  {
   "cell_type": "code",
   "execution_count": null,
   "metadata": {},
   "outputs": [],
   "source": [
    "# 9. Выведите самый редкий ингридиент из описания menus.description (опционально)\n",
    "#----- Ваш код здесь ----"
   ]
  },
  {
   "cell_type": "code",
   "execution_count": null,
   "metadata": {},
   "outputs": [],
   "source": [
    "# 10. Создайте директорию pizza_provinces\n",
    "#----- Ваш код здесь ----"
   ]
  },
  {
   "cell_type": "code",
   "execution_count": null,
   "metadata": {},
   "outputs": [],
   "source": [
    "# 11. Сохраните в эту директорию файлы с пицериями по регионам provinces \n",
    "# В задании важно учесть условие:\n",
    "#  Если регион начинается \"A\" то файл .xlsx, если 'N' то .csv, в остальных случаях .txt\n",
    "#  Пример: 'AR.xlsx' содержит в себе все пицерии из региона 'AR'\n",
    "\n",
    "#----- Ваш код здесь ----"
   ]
  },
  {
   "cell_type": "code",
   "execution_count": null,
   "metadata": {},
   "outputs": [],
   "source": [
    "# 12. Напишите функцию, которая на вход будет принимать регион, а на выходе выдавать город, где больше всего пцццерий\n",
    "#----- Ваш код здесь ----"
   ]
  },
  {
   "cell_type": "code",
   "execution_count": 226,
   "metadata": {},
   "outputs": [],
   "source": [
    "# 13. Рассчитайте и запишите в колонку city_len количество символов в названии города 2мя способами\n",
    "#----- Ваш код здесь ----"
   ]
  }
 ],
 "metadata": {
  "kernelspec": {
   "display_name": "Python 3",
   "language": "python",
   "name": "python3"
  },
  "language_info": {
   "codemirror_mode": {
    "name": "ipython",
    "version": 3
   },
   "file_extension": ".py",
   "mimetype": "text/x-python",
   "name": "python",
   "nbconvert_exporter": "python",
   "pygments_lexer": "ipython3",
   "version": "3.7.3"
  }
 },
 "nbformat": 4,
 "nbformat_minor": 2
}
