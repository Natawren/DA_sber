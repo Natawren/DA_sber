{
 "cells": [
  {
   "cell_type": "markdown",
   "source": [
    "# Задание 1\n",
    "* Собрать информацию о всех строящихся объектах на сайте \"наш.дом.рф\"\n",
    "* Cохранить ее в pandas dataframe\n",
    "* Cохранить pandas dataframe в excel\n",
    "* Cохранить pandas dataframe в pickle\n",
    "* Cохранить pandas dataframe в БД\n",
    "\n",
    "# Задание 2\n",
    "* Выберите регион\n",
    "* Сравните среднюю цену квадратного метра в городах этого региона\n",
    "* Определите количество строящихся объектов и квартир в регионах\n",
    "* Определите объем строящегося жилья в квадратных метрах\n",
    "\n",
    "# Задание 3 *\n",
    "* Напишете скрипт, который сможет ежедневно собирать данные по цене, количестве и объему строящихся объектов самостоятельно и ежедневно\n",
    "* Попробуйте ускорить процесс\n",
    "* Добавьте возможность добавления данных в БД с указанием текущей даты."
   ],
   "metadata": {
    "collapsed": false,
    "pycharm": {
     "name": "#%% md\n"
    }
   }
  },
  {
   "cell_type": "code",
   "execution_count": 1,
   "outputs": [],
   "source": [
    "import requests"
   ],
   "metadata": {
    "collapsed": false,
    "pycharm": {
     "name": "#%%\n"
    }
   }
  },
  {
   "cell_type": "markdown",
   "source": [
    "## Список объектов"
   ],
   "metadata": {
    "collapsed": false,
    "pycharm": {
     "name": "#%% md\n"
    }
   }
  },
  {
   "cell_type": "code",
   "execution_count": 2,
   "outputs": [],
   "source": [
    "offset_ = 2001\n",
    "limit_ = 1000\n",
    "url = f'https://xn--80az8a.xn--d1aqf.xn--p1ai/%D1%81%D0%B5%D1%80%D0%B2%D0%B8%D1%81%D1%8B/api/kn/object?offset={offset_}&limit={limit_}&sortField=devId.devShortCleanNm&sortType=asc&objStatus=0'\n",
    "res = requests.get(url)\n",
    "objects_data = res.json()"
   ],
   "metadata": {
    "collapsed": false,
    "pycharm": {
     "name": "#%%\n"
    }
   }
  },
  {
   "cell_type": "code",
   "execution_count": 3,
   "outputs": [
    {
     "data": {
      "text/plain": "dict_keys(['data', 'errcode'])"
     },
     "execution_count": 3,
     "metadata": {},
     "output_type": "execute_result"
    }
   ],
   "source": [
    "objects_data.keys()"
   ],
   "metadata": {
    "collapsed": false,
    "pycharm": {
     "name": "#%%\n"
    }
   }
  },
  {
   "cell_type": "code",
   "execution_count": 4,
   "outputs": [],
   "source": [
    "objects_list = objects_data.get('data').get('list')"
   ],
   "metadata": {
    "collapsed": false,
    "pycharm": {
     "name": "#%%\n"
    }
   }
  },
  {
   "cell_type": "code",
   "execution_count": 5,
   "outputs": [],
   "source": [
    "objids = [x.get('objId') for x in objects_list]"
   ],
   "metadata": {
    "collapsed": false,
    "pycharm": {
     "name": "#%%\n"
    }
   }
  },
  {
   "cell_type": "code",
   "execution_count": 6,
   "outputs": [
    {
     "data": {
      "text/plain": "1000"
     },
     "execution_count": 6,
     "metadata": {},
     "output_type": "execute_result"
    }
   ],
   "source": [
    "len(objids)"
   ],
   "metadata": {
    "collapsed": false,
    "pycharm": {
     "name": "#%%\n"
    }
   }
  },
  {
   "cell_type": "code",
   "execution_count": 7,
   "outputs": [
    {
     "data": {
      "text/plain": "[38724, 36637, 12856, 44876, 39480, 42038, 42036, 36633, 34617, 28916]"
     },
     "execution_count": 7,
     "metadata": {},
     "output_type": "execute_result"
    }
   ],
   "source": [
    "objids[:10]"
   ],
   "metadata": {
    "collapsed": false,
    "pycharm": {
     "name": "#%%\n"
    }
   }
  },
  {
   "cell_type": "markdown",
   "source": [
    "# Данные по определенному объекту"
   ],
   "metadata": {
    "collapsed": false,
    "pycharm": {
     "name": "#%% md\n"
    }
   }
  },
  {
   "cell_type": "code",
   "execution_count": 8,
   "outputs": [],
   "source": [
    "url = f'https://xn--80az8a.xn--d1aqf.xn--p1ai/%D1%81%D0%B5%D1%80%D0%B2%D0%B8%D1%81%D1%8B/api/object/25002'"
   ],
   "metadata": {
    "collapsed": false,
    "pycharm": {
     "name": "#%%\n"
    }
   }
  },
  {
   "cell_type": "code",
   "execution_count": 9,
   "outputs": [
    {
     "data": {
      "text/plain": "{'data': {'id': 25002,\n  'pdId': 63825,\n  'developer': {'devId': 2666,\n   'devShortCleanNm': '10 КВАРТАЛ',\n   'devShortNm': '10 КВАРТАЛ',\n   'devFullCleanNm': '10 КВАРТАЛ',\n   'problObjCnt': 0,\n   'buildObjCnt': 0,\n   'comissObjCnt': 19,\n   'regRegionDesc': 'Московская область',\n   'devPhoneNum': '+7(495)107-91-24',\n   'devSite': 'www.mechta.su',\n   'devEmail': 'resnov@cmft.ru',\n   'devInn': '5050102110',\n   'devOgrn': '1135050000447',\n   'devKpp': '500701001',\n   'devLegalAddr': 'Московская область, город Дмитров, улица Весенняя дом 29 корпус - строение - комната 2',\n   'devFactAddr': 'обл Московская Дмитровский город Дмитров село Озерецкое д. 29 комната 2 50',\n   'fundGuarantyFlg': 0,\n   'devOrgRegRegionCd': 50,\n   'devEmplMainFullNm': 'Меламуд Александр Романович',\n   'orgForm': {'id': 4,\n    'fullForm': 'Общество с ограниченной ответственностью',\n    'shortForm': 'ООО'},\n   'objGuarantyEscrowFlg': 0,\n   'govFundFlg': 0},\n  'region': 50,\n  'address': 'село Озерецкое, д. 30',\n  'nameObj': 'квартал застройки № 2.7 (строительный номер 10) участка № 1 (площадью 222,32 га)  в составе жилого поселения с объектами инфраструктуры (жилой комплекс \"Мечта\") в селе Озерецкое Дмитровского района Московской области.    ID объекта 25002',\n  'floorMin': 5,\n  'floorMax': 5,\n  'objElemLivingCnt': 98,\n  'objReady100PercDt': '2022-01-10',\n  'wallMaterialShortDesc': 'Кирпич',\n  'objLkFinishTypeDesc': 'По желанию заказчика',\n  'objLkFreePlanDesc': 'Нет',\n  'objElemParkingCnt': 0,\n  'objSquareLiving': 5487.8,\n  'rpdNum': '50-001681',\n  'rpdPdfLink': 'https://xn--80az8a.xn--d1aqf.xn--p1ai/api/ext/file/333de6eb-c314-4c81-b7b7-dc42a441feee',\n  'rpdIssueDttm': '14-01-2022 11:22',\n  'objLkLatitude': '56.0758',\n  'objLkLongitude': '37.3721',\n  'objCompensFundFlg': 0,\n  'objProblemFlg': 0,\n  'objLkClassDesc': 'Комфорт',\n  'loadDttm': '04-04-2022 01:09',\n  'photoRenderDTO': [{'objId': 25002,\n    'pdId': 63825,\n    'rpdId': 549947,\n    'devId': 2666,\n    'ordNum': 1,\n    'objRenderPhotoSize': 1484835,\n    'objRenderPhotoUrl': 'https://xn--80az8a.xn--d1aqf.xn--p1ai/api/ext/file/ad0a674d-1a3d-485a-bd32-b13ae100cb6e',\n    'objRenderPhotoDttm': '11-03-2019 15:29',\n    'objRenderPhotoHiddenFlg': 0,\n    'objRenderPhotoNm': 'm_kv10_pod_h30_12.jpg',\n    'objReadyDesc': 'Сдан',\n    'objBuildTypeShortDesc': 'Жилое',\n    'knFlg': 0,\n    'loadDttm': '04-04-2022 00:54'}],\n  'objGuarantyEscrowFlg': 0,\n  'objectType': 'normal',\n  'miniUrl': 'https://xn--80az8a.xn--d1aqf.xn--p1ai/api/ext/file/6f70f554-73d7-42a5-94fa-877116c3dbb3',\n  'residentialBuildings': 1,\n  'objFloorCnt': 5,\n  'objFlatCnt': 98,\n  'objFlatSq': '5487.8',\n  'objNonlivElemCnt': 0,\n  'quartography': {'objLivElem1KCnt': 19,\n   'objLivElem2KCnt': 61,\n   'objLivElem3KCnt': 18,\n   'objLivElem4KCnt': 0,\n   'objLivElemCnt': 98,\n   'objLivElemEntrCnt': 5,\n   'objLivElemEntrFloorAvg': 4},\n  'objStatus': 2,\n  'rnvFlg': 1,\n  'rnvDTO': [{'objId': 25002,\n    'fileSize': 135288,\n    'fileNm': 'Разрешение_на_ввод_3000669603.pdf',\n    'fileUrl': 'https://xn--80az8a.xn--d1aqf.xn--p1ai/api/ext/file/fdc9bd1a-d6df-4c97-bf92-5e45fa22feea',\n    'docObjRnvNum': 'RU50-04-20528-2022',\n    'docObjRnvDt': '10-01-2022 00:00',\n    'fileExtension': 'pdf',\n    'lastRank': 1}],\n  'isAvailableWantLiveHere': False,\n  'objTransferPlanDt': '30-06-2022 12:00',\n  'objLivCeilingHeight': '2,7',\n  'objInfrstrBicycleLaneFlg': 0,\n  'objInfrstrPlaygrndCnt': 1,\n  'objInfrstrSportGroundCnt': 0,\n  'objInfrstrTrashAreaCnt': 1,\n  'objInfrstrObjPrkngCnt': 38,\n  'objInfrstrNotObjPrkngCnt': 55,\n  'objInfrstrRampFlg': 1,\n  'objInfrstrCurbLoweringFlg': 1,\n  'objElevatorWheelchairCnt': 5,\n  'objElevatorPassengerCnt': 0,\n  'objElevatorCargoCnt': 0,\n  'soldOutPerc': 0.927019935128831,\n  'objPriceAvg': 75441,\n  'generalContractorNm': 'ООО Отделка Мастер (ИНН: 5007081135)',\n  'nonlivFirstFloor': 0,\n  'objectTransportInfo': [],\n  'objLkSaleDepEmail': 'sorokin@cmft.ru',\n  'objGreenHouseFlg': 0,\n  'objEnergyEffShortDesc': 'B',\n  'airQualityIndexValue': 6,\n  'infrastructureIndexValue': 2},\n 'errcode': '0'}"
     },
     "execution_count": 9,
     "metadata": {},
     "output_type": "execute_result"
    }
   ],
   "source": [
    "res = requests.get(url)\n",
    "res.json()"
   ],
   "metadata": {
    "collapsed": false,
    "pycharm": {
     "name": "#%%\n"
    }
   }
  },
  {
   "cell_type": "code",
   "execution_count": 10,
   "outputs": [
    {
     "data": {
      "text/plain": "  errcode  data.id  data.pdId  data.developer.devId  \\\n0       0    25002      63825                  2666   \n\n  data.developer.devShortCleanNm data.developer.devShortNm  \\\n0                     10 КВАРТАЛ                10 КВАРТАЛ   \n\n  data.developer.devFullCleanNm  data.developer.problObjCnt  \\\n0                    10 КВАРТАЛ                           0   \n\n   data.developer.buildObjCnt  data.developer.comissObjCnt  ...  \\\n0                           0                           19  ...   \n\n  data.soldOutPerc data.objPriceAvg              data.generalContractorNm  \\\n0          0.92702            75441  ООО Отделка Мастер (ИНН: 5007081135)   \n\n  data.nonlivFirstFloor data.objectTransportInfo data.objLkSaleDepEmail  \\\n0                     0                       []        sorokin@cmft.ru   \n\n  data.objGreenHouseFlg data.objEnergyEffShortDesc data.airQualityIndexValue  \\\n0                     0                          B                         6   \n\n   data.infrastructureIndexValue  \n0                              2  \n\n[1 rows x 91 columns]",
      "text/html": "<div>\n<style scoped>\n    .dataframe tbody tr th:only-of-type {\n        vertical-align: middle;\n    }\n\n    .dataframe tbody tr th {\n        vertical-align: top;\n    }\n\n    .dataframe thead th {\n        text-align: right;\n    }\n</style>\n<table border=\"1\" class=\"dataframe\">\n  <thead>\n    <tr style=\"text-align: right;\">\n      <th></th>\n      <th>errcode</th>\n      <th>data.id</th>\n      <th>data.pdId</th>\n      <th>data.developer.devId</th>\n      <th>data.developer.devShortCleanNm</th>\n      <th>data.developer.devShortNm</th>\n      <th>data.developer.devFullCleanNm</th>\n      <th>data.developer.problObjCnt</th>\n      <th>data.developer.buildObjCnt</th>\n      <th>data.developer.comissObjCnt</th>\n      <th>...</th>\n      <th>data.soldOutPerc</th>\n      <th>data.objPriceAvg</th>\n      <th>data.generalContractorNm</th>\n      <th>data.nonlivFirstFloor</th>\n      <th>data.objectTransportInfo</th>\n      <th>data.objLkSaleDepEmail</th>\n      <th>data.objGreenHouseFlg</th>\n      <th>data.objEnergyEffShortDesc</th>\n      <th>data.airQualityIndexValue</th>\n      <th>data.infrastructureIndexValue</th>\n    </tr>\n  </thead>\n  <tbody>\n    <tr>\n      <th>0</th>\n      <td>0</td>\n      <td>25002</td>\n      <td>63825</td>\n      <td>2666</td>\n      <td>10 КВАРТАЛ</td>\n      <td>10 КВАРТАЛ</td>\n      <td>10 КВАРТАЛ</td>\n      <td>0</td>\n      <td>0</td>\n      <td>19</td>\n      <td>...</td>\n      <td>0.92702</td>\n      <td>75441</td>\n      <td>ООО Отделка Мастер (ИНН: 5007081135)</td>\n      <td>0</td>\n      <td>[]</td>\n      <td>sorokin@cmft.ru</td>\n      <td>0</td>\n      <td>B</td>\n      <td>6</td>\n      <td>2</td>\n    </tr>\n  </tbody>\n</table>\n<p>1 rows × 91 columns</p>\n</div>"
     },
     "execution_count": 10,
     "metadata": {},
     "output_type": "execute_result"
    }
   ],
   "source": [
    "import pandas as pd\n",
    "pd.json_normalize(res.json())"
   ],
   "metadata": {
    "collapsed": false,
    "pycharm": {
     "name": "#%%\n"
    }
   }
  },
  {
   "cell_type": "code",
   "execution_count": 15,
   "outputs": [],
   "source": [
    "from tqdm.auto import tqdm"
   ],
   "metadata": {
    "collapsed": false,
    "pycharm": {
     "name": "#%%\n"
    }
   }
  },
  {
   "cell_type": "code",
   "execution_count": 16,
   "outputs": [
    {
     "data": {
      "text/plain": "  0%|          | 0/1000 [00:00<?, ?it/s]",
      "application/vnd.jupyter.widget-view+json": {
       "version_major": 2,
       "version_minor": 0,
       "model_id": "2c110879320e41938473b6c9feab5729"
      }
     },
     "metadata": {},
     "output_type": "display_data"
    }
   ],
   "source": [
    "df = pd.DataFrame()\n",
    "for obj_id in tqdm(objids):\n",
    "    url = f'https://xn--80az8a.xn--d1aqf.xn--p1ai/%D1%81%D0%B5%D1%80%D0%B2%D0%B8%D1%81%D1%8B/api/object/{obj_id}'\n",
    "    res = requests.get(url)\n",
    "    df = pd.concat([df, pd.json_normalize(res.json())], axis=0)"
   ],
   "metadata": {
    "collapsed": false,
    "pycharm": {
     "name": "#%%\n"
    }
   }
  },
  {
   "cell_type": "code",
   "execution_count": 14,
   "outputs": [
    {
     "data": {
      "text/plain": "  errcode  data.id  data.pdId  data.developer.devId  \\\n0       0    38724     343763                  4641   \n0       0    36637     286070                   386   \n0       0    12856      26489                  3549   \n0       0    44876     553352                  5535   \n0       0    39480     442506                  2569   \n0       0    42038     487261                  2569   \n0       0    42036     484089                  2569   \n0       0    36633     333136                  3140   \n0       0    34617     251241                  3792   \n0       0    28916      96978                  7436   \n\n  data.developer.devShortCleanNm    data.developer.devShortNm  \\\n0      ПСК СТРОЙСПЕЦСЕРВИС-ГРУПП    ПСК СТРОЙСПЕЦСЕРВИС-ГРУПП   \n0    ПСКСТРОИТЕЛЬНАЯ ПЕРСПЕКТИВА  ПСКСТРОИТЕЛЬНАЯ ПЕРСПЕКТИВА   \n0              ПСП-ТОЛЬЯТТИСТРОЙ            ПСП-ТОЛЬЯТТИСТРОЙ   \n0                     ПСФ ЗОДЧИЙ                   ПСФ ЗОДЧИЙ   \n0                    ПСФ ИНСТРОЙ                  ПСФ ИНСТРОЙ   \n0                    ПСФ ИНСТРОЙ                  ПСФ ИНСТРОЙ   \n0                    ПСФ ИНСТРОЙ                  ПСФ ИНСТРОЙ   \n0                    ПСФ КВАРТАЛ                  ПСФ КВАРТАЛ   \n0                       ПСФ СТАР                     ПСФ СТАР   \n0                         Р-ФИКС                       Р-ФИКС   \n\n                       data.developer.devFullCleanNm  \\\n0                          ПСК СТРОЙСПЕЦСЕРВИС-ГРУПП   \n0  ПРОИЗВОДСТВЕННО-СТРОИТЕЛЬНАЯ КОМПАНИЯСТРОИТЕЛЬ...   \n0                                  ПСП-ТОЛЬЯТТИСТРОЙ   \n0                 ПРОЕКТНО-СТРОИТЕЛЬНАЯ ФИРМА ЗОДЧИЙ   \n0  СПЕЦИАЛИЗИРОВАННЫЙ ЗАСТРОЙЩИК ПРОЕКТНО-СТРОИТЕ...   \n0  СПЕЦИАЛИЗИРОВАННЫЙ ЗАСТРОЙЩИК ПРОЕКТНО-СТРОИТЕ...   \n0  СПЕЦИАЛИЗИРОВАННЫЙ ЗАСТРОЙЩИК ПРОЕКТНО-СТРОИТЕ...   \n0         ПРОИЗВОДСТВЕННО-СТРОИТЕЛЬНАЯ ФИРМА КВАРТАЛ   \n0                   ПРОЕКТНО-СТРОИТЕЛЬНАЯ ФИРМА СТАР   \n0                                             Р-ФИКС   \n\n   data.developer.problObjCnt  data.developer.buildObjCnt  \\\n0                           0                           1   \n0                           0                           1   \n0                           0                           1   \n0                           0                           1   \n0                           0                           3   \n0                           0                           3   \n0                           0                           3   \n0                           0                           1   \n0                           0                           1   \n0                           0                           1   \n\n   data.developer.comissObjCnt  ... data.metro.id data.metro.name  \\\n0                            0  ...           NaN             NaN   \n0                            9  ...           NaN             NaN   \n0                            0  ...           NaN             NaN   \n0                            0  ...           NaN             NaN   \n0                            3  ...           NaN             NaN   \n0                            3  ...           NaN             NaN   \n0                            3  ...           NaN             NaN   \n0                            5  ...           NaN             NaN   \n0                            2  ...           NaN             NaN   \n0                            0  ...        17.244   Улица Дыбенко   \n\n  data.metro.line data.metro.color data.metro.time data.metro.isWalk  \\\n0             NaN              NaN             NaN               NaN   \n0             NaN              NaN             NaN               NaN   \n0             NaN              NaN             NaN               NaN   \n0             NaN              NaN             NaN               NaN   \n0             NaN              NaN             NaN               NaN   \n0             NaN              NaN             NaN               NaN   \n0             NaN              NaN             NaN               NaN   \n0             NaN              NaN             NaN               NaN   \n0             NaN              NaN             NaN               NaN   \n0   Правобережная          #EA7125       20.033333              True   \n\n  data.metro.colors data.transportDistIndex data.transportDistIndexValue  \\\n0               NaN                     NaN                          NaN   \n0               NaN                     NaN                          NaN   \n0               NaN                     NaN                          NaN   \n0               NaN                     NaN                          NaN   \n0               NaN                     NaN                          NaN   \n0               NaN                     NaN                          NaN   \n0               NaN                     NaN                          NaN   \n0               NaN                     NaN                          NaN   \n0               NaN                     NaN                          NaN   \n0         [#EA7125]                  8 / 10                          8.0   \n\n   data.greenAreaIndexValue  \n0                       NaN  \n0                       NaN  \n0                       NaN  \n0                       NaN  \n0                       NaN  \n0                       NaN  \n0                       NaN  \n0                       NaN  \n0                       NaN  \n0                      10.0  \n\n[10 rows x 103 columns]",
      "text/html": "<div>\n<style scoped>\n    .dataframe tbody tr th:only-of-type {\n        vertical-align: middle;\n    }\n\n    .dataframe tbody tr th {\n        vertical-align: top;\n    }\n\n    .dataframe thead th {\n        text-align: right;\n    }\n</style>\n<table border=\"1\" class=\"dataframe\">\n  <thead>\n    <tr style=\"text-align: right;\">\n      <th></th>\n      <th>errcode</th>\n      <th>data.id</th>\n      <th>data.pdId</th>\n      <th>data.developer.devId</th>\n      <th>data.developer.devShortCleanNm</th>\n      <th>data.developer.devShortNm</th>\n      <th>data.developer.devFullCleanNm</th>\n      <th>data.developer.problObjCnt</th>\n      <th>data.developer.buildObjCnt</th>\n      <th>data.developer.comissObjCnt</th>\n      <th>...</th>\n      <th>data.metro.id</th>\n      <th>data.metro.name</th>\n      <th>data.metro.line</th>\n      <th>data.metro.color</th>\n      <th>data.metro.time</th>\n      <th>data.metro.isWalk</th>\n      <th>data.metro.colors</th>\n      <th>data.transportDistIndex</th>\n      <th>data.transportDistIndexValue</th>\n      <th>data.greenAreaIndexValue</th>\n    </tr>\n  </thead>\n  <tbody>\n    <tr>\n      <th>0</th>\n      <td>0</td>\n      <td>38724</td>\n      <td>343763</td>\n      <td>4641</td>\n      <td>ПСК СТРОЙСПЕЦСЕРВИС-ГРУПП</td>\n      <td>ПСК СТРОЙСПЕЦСЕРВИС-ГРУПП</td>\n      <td>ПСК СТРОЙСПЕЦСЕРВИС-ГРУПП</td>\n      <td>0</td>\n      <td>1</td>\n      <td>0</td>\n      <td>...</td>\n      <td>NaN</td>\n      <td>NaN</td>\n      <td>NaN</td>\n      <td>NaN</td>\n      <td>NaN</td>\n      <td>NaN</td>\n      <td>NaN</td>\n      <td>NaN</td>\n      <td>NaN</td>\n      <td>NaN</td>\n    </tr>\n    <tr>\n      <th>0</th>\n      <td>0</td>\n      <td>36637</td>\n      <td>286070</td>\n      <td>386</td>\n      <td>ПСКСТРОИТЕЛЬНАЯ ПЕРСПЕКТИВА</td>\n      <td>ПСКСТРОИТЕЛЬНАЯ ПЕРСПЕКТИВА</td>\n      <td>ПРОИЗВОДСТВЕННО-СТРОИТЕЛЬНАЯ КОМПАНИЯСТРОИТЕЛЬ...</td>\n      <td>0</td>\n      <td>1</td>\n      <td>9</td>\n      <td>...</td>\n      <td>NaN</td>\n      <td>NaN</td>\n      <td>NaN</td>\n      <td>NaN</td>\n      <td>NaN</td>\n      <td>NaN</td>\n      <td>NaN</td>\n      <td>NaN</td>\n      <td>NaN</td>\n      <td>NaN</td>\n    </tr>\n    <tr>\n      <th>0</th>\n      <td>0</td>\n      <td>12856</td>\n      <td>26489</td>\n      <td>3549</td>\n      <td>ПСП-ТОЛЬЯТТИСТРОЙ</td>\n      <td>ПСП-ТОЛЬЯТТИСТРОЙ</td>\n      <td>ПСП-ТОЛЬЯТТИСТРОЙ</td>\n      <td>0</td>\n      <td>1</td>\n      <td>0</td>\n      <td>...</td>\n      <td>NaN</td>\n      <td>NaN</td>\n      <td>NaN</td>\n      <td>NaN</td>\n      <td>NaN</td>\n      <td>NaN</td>\n      <td>NaN</td>\n      <td>NaN</td>\n      <td>NaN</td>\n      <td>NaN</td>\n    </tr>\n    <tr>\n      <th>0</th>\n      <td>0</td>\n      <td>44876</td>\n      <td>553352</td>\n      <td>5535</td>\n      <td>ПСФ ЗОДЧИЙ</td>\n      <td>ПСФ ЗОДЧИЙ</td>\n      <td>ПРОЕКТНО-СТРОИТЕЛЬНАЯ ФИРМА ЗОДЧИЙ</td>\n      <td>0</td>\n      <td>1</td>\n      <td>0</td>\n      <td>...</td>\n      <td>NaN</td>\n      <td>NaN</td>\n      <td>NaN</td>\n      <td>NaN</td>\n      <td>NaN</td>\n      <td>NaN</td>\n      <td>NaN</td>\n      <td>NaN</td>\n      <td>NaN</td>\n      <td>NaN</td>\n    </tr>\n    <tr>\n      <th>0</th>\n      <td>0</td>\n      <td>39480</td>\n      <td>442506</td>\n      <td>2569</td>\n      <td>ПСФ ИНСТРОЙ</td>\n      <td>ПСФ ИНСТРОЙ</td>\n      <td>СПЕЦИАЛИЗИРОВАННЫЙ ЗАСТРОЙЩИК ПРОЕКТНО-СТРОИТЕ...</td>\n      <td>0</td>\n      <td>3</td>\n      <td>3</td>\n      <td>...</td>\n      <td>NaN</td>\n      <td>NaN</td>\n      <td>NaN</td>\n      <td>NaN</td>\n      <td>NaN</td>\n      <td>NaN</td>\n      <td>NaN</td>\n      <td>NaN</td>\n      <td>NaN</td>\n      <td>NaN</td>\n    </tr>\n    <tr>\n      <th>0</th>\n      <td>0</td>\n      <td>42038</td>\n      <td>487261</td>\n      <td>2569</td>\n      <td>ПСФ ИНСТРОЙ</td>\n      <td>ПСФ ИНСТРОЙ</td>\n      <td>СПЕЦИАЛИЗИРОВАННЫЙ ЗАСТРОЙЩИК ПРОЕКТНО-СТРОИТЕ...</td>\n      <td>0</td>\n      <td>3</td>\n      <td>3</td>\n      <td>...</td>\n      <td>NaN</td>\n      <td>NaN</td>\n      <td>NaN</td>\n      <td>NaN</td>\n      <td>NaN</td>\n      <td>NaN</td>\n      <td>NaN</td>\n      <td>NaN</td>\n      <td>NaN</td>\n      <td>NaN</td>\n    </tr>\n    <tr>\n      <th>0</th>\n      <td>0</td>\n      <td>42036</td>\n      <td>484089</td>\n      <td>2569</td>\n      <td>ПСФ ИНСТРОЙ</td>\n      <td>ПСФ ИНСТРОЙ</td>\n      <td>СПЕЦИАЛИЗИРОВАННЫЙ ЗАСТРОЙЩИК ПРОЕКТНО-СТРОИТЕ...</td>\n      <td>0</td>\n      <td>3</td>\n      <td>3</td>\n      <td>...</td>\n      <td>NaN</td>\n      <td>NaN</td>\n      <td>NaN</td>\n      <td>NaN</td>\n      <td>NaN</td>\n      <td>NaN</td>\n      <td>NaN</td>\n      <td>NaN</td>\n      <td>NaN</td>\n      <td>NaN</td>\n    </tr>\n    <tr>\n      <th>0</th>\n      <td>0</td>\n      <td>36633</td>\n      <td>333136</td>\n      <td>3140</td>\n      <td>ПСФ КВАРТАЛ</td>\n      <td>ПСФ КВАРТАЛ</td>\n      <td>ПРОИЗВОДСТВЕННО-СТРОИТЕЛЬНАЯ ФИРМА КВАРТАЛ</td>\n      <td>0</td>\n      <td>1</td>\n      <td>5</td>\n      <td>...</td>\n      <td>NaN</td>\n      <td>NaN</td>\n      <td>NaN</td>\n      <td>NaN</td>\n      <td>NaN</td>\n      <td>NaN</td>\n      <td>NaN</td>\n      <td>NaN</td>\n      <td>NaN</td>\n      <td>NaN</td>\n    </tr>\n    <tr>\n      <th>0</th>\n      <td>0</td>\n      <td>34617</td>\n      <td>251241</td>\n      <td>3792</td>\n      <td>ПСФ СТАР</td>\n      <td>ПСФ СТАР</td>\n      <td>ПРОЕКТНО-СТРОИТЕЛЬНАЯ ФИРМА СТАР</td>\n      <td>0</td>\n      <td>1</td>\n      <td>2</td>\n      <td>...</td>\n      <td>NaN</td>\n      <td>NaN</td>\n      <td>NaN</td>\n      <td>NaN</td>\n      <td>NaN</td>\n      <td>NaN</td>\n      <td>NaN</td>\n      <td>NaN</td>\n      <td>NaN</td>\n      <td>NaN</td>\n    </tr>\n    <tr>\n      <th>0</th>\n      <td>0</td>\n      <td>28916</td>\n      <td>96978</td>\n      <td>7436</td>\n      <td>Р-ФИКС</td>\n      <td>Р-ФИКС</td>\n      <td>Р-ФИКС</td>\n      <td>0</td>\n      <td>1</td>\n      <td>0</td>\n      <td>...</td>\n      <td>17.244</td>\n      <td>Улица Дыбенко</td>\n      <td>Правобережная</td>\n      <td>#EA7125</td>\n      <td>20.033333</td>\n      <td>True</td>\n      <td>[#EA7125]</td>\n      <td>8 / 10</td>\n      <td>8.0</td>\n      <td>10.0</td>\n    </tr>\n  </tbody>\n</table>\n<p>10 rows × 103 columns</p>\n</div>"
     },
     "execution_count": 14,
     "metadata": {},
     "output_type": "execute_result"
    }
   ],
   "source": [],
   "metadata": {
    "collapsed": false,
    "pycharm": {
     "name": "#%%\n"
    }
   }
  },
  {
   "cell_type": "code",
   "execution_count": null,
   "outputs": [],
   "source": [],
   "metadata": {
    "collapsed": false,
    "pycharm": {
     "name": "#%%\n"
    }
   }
  }
 ],
 "metadata": {
  "kernelspec": {
   "display_name": "Python 3",
   "language": "python",
   "name": "python3"
  },
  "language_info": {
   "codemirror_mode": {
    "name": "ipython",
    "version": 2
   },
   "file_extension": ".py",
   "mimetype": "text/x-python",
   "name": "python",
   "nbconvert_exporter": "python",
   "pygments_lexer": "ipython2",
   "version": "2.7.6"
  }
 },
 "nbformat": 4,
 "nbformat_minor": 0
}