{
 "cells": [
  {
   "cell_type": "code",
   "execution_count": 56,
   "id": "governing-anxiety",
   "metadata": {},
   "outputs": [],
   "source": [
    "class TV:\n",
    "    \n",
    "    def __init__(self, brand):\n",
    "        self.brandik = brand\n",
    "        self.status = 'off'\n",
    "        \n",
    "        \n",
    "    def turn_on(self):\n",
    "        print('Click! TV is on')\n",
    "        self.status = 'on'\n",
    "    \n",
    "    def turn_off(self):\n",
    "        print('Click! TV is off')\n",
    "        self.status = 'off'\n",
    "        \n",
    "    def __str__(self):\n",
    "        return f\"TV : {self.brandik} Status :{ self.status}\""
   ]
  },
  {
   "cell_type": "code",
   "execution_count": 28,
   "id": "exact-nature",
   "metadata": {},
   "outputs": [],
   "source": [
    "tv = TV(brand='Sony')"
   ]
  },
  {
   "cell_type": "code",
   "execution_count": 29,
   "id": "solar-permission",
   "metadata": {},
   "outputs": [
    {
     "data": {
      "text/plain": [
       "'off'"
      ]
     },
     "execution_count": 29,
     "metadata": {},
     "output_type": "execute_result"
    }
   ],
   "source": [
    "tv.status"
   ]
  },
  {
   "cell_type": "code",
   "execution_count": 30,
   "id": "stylish-exercise",
   "metadata": {},
   "outputs": [
    {
     "name": "stdout",
     "output_type": "stream",
     "text": [
      "Click! TV is on\n"
     ]
    }
   ],
   "source": [
    "tv.turn_on()"
   ]
  },
  {
   "cell_type": "code",
   "execution_count": 31,
   "id": "breeding-deadline",
   "metadata": {},
   "outputs": [
    {
     "data": {
      "text/plain": [
       "'on'"
      ]
     },
     "execution_count": 31,
     "metadata": {},
     "output_type": "execute_result"
    }
   ],
   "source": [
    "tv.status"
   ]
  },
  {
   "cell_type": "code",
   "execution_count": 32,
   "id": "olive-meaning",
   "metadata": {},
   "outputs": [
    {
     "name": "stdout",
     "output_type": "stream",
     "text": [
      "TV : Sony Status :on\n"
     ]
    }
   ],
   "source": [
    "print(tv)"
   ]
  },
  {
   "cell_type": "code",
   "execution_count": 33,
   "id": "boring-swift",
   "metadata": {},
   "outputs": [
    {
     "name": "stdout",
     "output_type": "stream",
     "text": [
      "Click! TV is off\n"
     ]
    }
   ],
   "source": [
    "tv.turn_off()"
   ]
  },
  {
   "cell_type": "code",
   "execution_count": 34,
   "id": "outside-proposition",
   "metadata": {},
   "outputs": [
    {
     "name": "stdout",
     "output_type": "stream",
     "text": [
      "TV : Sony Status :off\n"
     ]
    }
   ],
   "source": [
    "print(tv)"
   ]
  },
  {
   "cell_type": "code",
   "execution_count": 44,
   "id": "strong-stage",
   "metadata": {},
   "outputs": [],
   "source": [
    "class BigTV(TV):\n",
    "    def __init__(self, brand):\n",
    "        self.brandik = brand\n",
    "        self.status = 'on'"
   ]
  },
  {
   "cell_type": "code",
   "execution_count": 46,
   "id": "descending-division",
   "metadata": {},
   "outputs": [
    {
     "data": {
      "text/plain": [
       "'on'"
      ]
     },
     "execution_count": 46,
     "metadata": {},
     "output_type": "execute_result"
    }
   ],
   "source": [
    "bigtv = BigTV('LG')\n",
    "bigtv.status\n"
   ]
  },
  {
   "cell_type": "code",
   "execution_count": 57,
   "id": "embedded-corps",
   "metadata": {},
   "outputs": [],
   "source": [
    "class SberBox:\n",
    "    \n",
    "    def __init__(self):\n",
    "        self.status = 'on'\n",
    "        self.film = None\n",
    "        \n",
    "    def turn_on_okko(self, film):\n",
    "        self.film = film\n",
    "        self.status_okko = 'on'\n",
    "    \n",
    "    def turn_off_okko(self):\n",
    "        self.status_okko  = 'off'\n",
    "        self.film = None\n",
    "        \n",
    "    def load_data(self):\n",
    "        self.data = pd.read_csv(url)\n",
    "        \n",
    "    def __str__(self):\n",
    "        return f\"Status: {self.status_okko}, Film : {self.film}\""
   ]
  },
  {
   "cell_type": "code",
   "execution_count": 49,
   "id": "fewer-burning",
   "metadata": {},
   "outputs": [],
   "source": [
    "sbx = SberBox()"
   ]
  },
  {
   "cell_type": "code",
   "execution_count": 50,
   "id": "greek-found",
   "metadata": {},
   "outputs": [],
   "source": [
    "sbx.turn_on_okko('Titanik')"
   ]
  },
  {
   "cell_type": "code",
   "execution_count": 51,
   "id": "leading-miniature",
   "metadata": {},
   "outputs": [
    {
     "name": "stdout",
     "output_type": "stream",
     "text": [
      "Status: on, Film : Titanik\n"
     ]
    }
   ],
   "source": [
    "print(sbx)"
   ]
  },
  {
   "cell_type": "code",
   "execution_count": 58,
   "id": "distributed-kernel",
   "metadata": {},
   "outputs": [],
   "source": [
    "class TVPlus(TV, SberBox):\n",
    "    pass"
   ]
  },
  {
   "cell_type": "code",
   "execution_count": 59,
   "id": "seeing-fellowship",
   "metadata": {},
   "outputs": [],
   "source": [
    "tvp = TVPlus(brand='LG')"
   ]
  },
  {
   "cell_type": "code",
   "execution_count": 54,
   "id": "velvet-kernel",
   "metadata": {},
   "outputs": [],
   "source": [
    "tvp.turn_on_okko('Titanik')"
   ]
  },
  {
   "cell_type": "code",
   "execution_count": 60,
   "id": "occupational-cleanup",
   "metadata": {},
   "outputs": [
    {
     "data": {
      "text/plain": [
       "'off'"
      ]
     },
     "execution_count": 60,
     "metadata": {},
     "output_type": "execute_result"
    }
   ],
   "source": [
    "tvp.status"
   ]
  },
  {
   "cell_type": "code",
   "execution_count": 61,
   "id": "lasting-pixel",
   "metadata": {},
   "outputs": [
    {
     "name": "stdout",
     "output_type": "stream",
     "text": [
      "Мур-Мур\n"
     ]
    }
   ],
   "source": [
    "s = 'Cat'\n",
    "if s == 'Cat' :\n",
    "    print('Мур-Мур')\n",
    "elif s == 'Dog':\n",
    "    print('Гав-Гав')\n",
    "elif s == 'Kraken':\n",
    "    print('Крак')"
   ]
  },
  {
   "cell_type": "code",
   "execution_count": 62,
   "id": "emerging-input",
   "metadata": {},
   "outputs": [],
   "source": [
    "class Animal:\n",
    "    def __init__(self, animal_type):\n",
    "        self.animal_type = animal_type\n",
    "    "
   ]
  },
  {
   "cell_type": "code",
   "execution_count": 72,
   "id": "arranged-hacker",
   "metadata": {},
   "outputs": [],
   "source": [
    "class Cat(Animal):\n",
    "    def __init__(self, animal_type='Cat'):\n",
    "        self.animal_type = animal_type\n",
    "    \n",
    "    def speak(self):\n",
    "        print('Мур-Мур')\n",
    "        "
   ]
  },
  {
   "cell_type": "code",
   "execution_count": 73,
   "id": "frozen-myanmar",
   "metadata": {},
   "outputs": [],
   "source": [
    "class Dog(Animal):\n",
    "    def __init__(self, animal_type='Dog'):\n",
    "        self.animal_type = animal_type\n",
    "    \n",
    "    def speak(self):\n",
    "        print('Гав-Гав')"
   ]
  },
  {
   "cell_type": "code",
   "execution_count": 74,
   "id": "brown-magnitude",
   "metadata": {},
   "outputs": [],
   "source": [
    "class Kraken(Animal):\n",
    "    def __init__(self, animal_type='Kraken'):\n",
    "        self.animal_type = animal_type\n",
    "    \n",
    "    def speak(self):\n",
    "        print('Krak')"
   ]
  },
  {
   "cell_type": "code",
   "execution_count": 75,
   "id": "established-convertible",
   "metadata": {},
   "outputs": [],
   "source": [
    "z = Cat('SuperCat')"
   ]
  },
  {
   "cell_type": "code",
   "execution_count": 76,
   "id": "provincial-insertion",
   "metadata": {},
   "outputs": [
    {
     "data": {
      "text/plain": [
       "'SuperCat'"
      ]
     },
     "execution_count": 76,
     "metadata": {},
     "output_type": "execute_result"
    }
   ],
   "source": [
    "z.animal_type"
   ]
  },
  {
   "cell_type": "code",
   "execution_count": 77,
   "id": "permanent-habitat",
   "metadata": {},
   "outputs": [
    {
     "name": "stdout",
     "output_type": "stream",
     "text": [
      "Мур-Мур\n"
     ]
    }
   ],
   "source": [
    "z.speak()"
   ]
  },
  {
   "cell_type": "code",
   "execution_count": 78,
   "id": "satisfactory-synthetic",
   "metadata": {},
   "outputs": [],
   "source": [
    "z = Dog()"
   ]
  },
  {
   "cell_type": "code",
   "execution_count": 79,
   "id": "promising-trinity",
   "metadata": {},
   "outputs": [
    {
     "name": "stdout",
     "output_type": "stream",
     "text": [
      "Гав-Гав\n"
     ]
    }
   ],
   "source": [
    "z.speak()"
   ]
  },
  {
   "cell_type": "code",
   "execution_count": 80,
   "id": "running-timer",
   "metadata": {},
   "outputs": [],
   "source": [
    "z = Kraken()"
   ]
  },
  {
   "cell_type": "code",
   "execution_count": 81,
   "id": "confident-colorado",
   "metadata": {},
   "outputs": [
    {
     "name": "stdout",
     "output_type": "stream",
     "text": [
      "Krak\n"
     ]
    }
   ],
   "source": [
    "z.speak()"
   ]
  },
  {
   "cell_type": "code",
   "execution_count": 84,
   "id": "separate-constraint",
   "metadata": {},
   "outputs": [],
   "source": [
    "animals = [Cat('SuperCat'),Dog(), Kraken()]"
   ]
  },
  {
   "cell_type": "code",
   "execution_count": 85,
   "id": "pleasant-belgium",
   "metadata": {},
   "outputs": [
    {
     "name": "stdout",
     "output_type": "stream",
     "text": [
      "Мур-Мур\n",
      "Гав-Гав\n",
      "Krak\n"
     ]
    }
   ],
   "source": [
    "for animal in animals:\n",
    "    animal.speak()"
   ]
  },
  {
   "cell_type": "code",
   "execution_count": null,
   "id": "neural-james",
   "metadata": {},
   "outputs": [],
   "source": [
    "class SberVacancies:\n",
    "    def __init__(self):\n",
    "        self.base_url = 'rabota.sber.ru'\n",
    "        self.vacancies = None\n",
    "        \n",
    "    def load_vacancies():\n",
    "        ...\n",
    "        self.vacancies = pd.DataFrame()\n",
    "        \n",
    "    def count_analitics_vacancies():\n",
    "        da_df = self.vacancies[self.vacancies.title.isin(['Аналитик'])]\n",
    "        return da_df.shape[0]\n",
    "    \n",
    "    def count_analitics_vacancies_with_python():\n",
    "        da_df = self.vacancies[self.vacancies.title.isin(['Аналитик','Python'])]\n",
    "        return da_df.shape[0]"
   ]
  },
  {
   "cell_type": "code",
   "execution_count": null,
   "id": "timely-photograph",
   "metadata": {},
   "outputs": [],
   "source": [
    "sbv = SberVacancies()\n",
    "sbv.load_vacancies()\n",
    "print(sbv.count_analitics_vacancies())\n",
    "print(sbv.count_analitics_vacancies_with_python())"
   ]
  },
  {
   "cell_type": "code",
   "execution_count": null,
   "id": "aging-instrumentation",
   "metadata": {},
   "outputs": [],
   "source": []
  }
 ],
 "metadata": {
  "kernelspec": {
   "display_name": "Python 3",
   "language": "python",
   "name": "python3"
  },
  "language_info": {
   "codemirror_mode": {
    "name": "ipython",
    "version": 3
   },
   "file_extension": ".py",
   "mimetype": "text/x-python",
   "name": "python",
   "nbconvert_exporter": "python",
   "pygments_lexer": "ipython3",
   "version": "3.8.5"
  }
 },
 "nbformat": 4,
 "nbformat_minor": 5
}
