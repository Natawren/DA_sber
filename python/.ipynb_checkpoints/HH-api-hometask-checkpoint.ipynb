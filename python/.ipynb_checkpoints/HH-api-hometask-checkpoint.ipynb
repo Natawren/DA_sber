{
 "cells": [
  {
   "cell_type": "code",
   "execution_count": 2,
   "metadata": {},
   "outputs": [],
   "source": [
    "import requests\n",
    "from tqdm.auto import tqdm\n",
    "import pandas as pd\n",
    "import json\n",
    "import datetime"
   ]
  },
  {
   "cell_type": "code",
   "execution_count": 3,
   "metadata": {},
   "outputs": [],
   "source": [
    "sber = '3529'\n",
    "page = 1\n",
    "num_per_page = 100\n",
    "moscow = 1\n",
    "url = f'https://api.hh.ru/vacancies?employer_id={sber}&per_page={num_per_page}'"
   ]
  },
  {
   "cell_type": "code",
   "execution_count": 4,
   "metadata": {},
   "outputs": [
    {
     "data": {
      "text/plain": [
       "20"
      ]
     },
     "execution_count": 4,
     "metadata": {},
     "output_type": "execute_result"
    }
   ],
   "source": [
    "res = requests.get(url)\n",
    "vacancies = res.json()\n",
    "num_pages = vacancies.get('pages')\n",
    "num_pages"
   ]
  },
  {
   "cell_type": "code",
   "execution_count": 5,
   "metadata": {},
   "outputs": [
    {
     "data": {
      "application/vnd.jupyter.widget-view+json": {
       "model_id": "0a89176c4d0b4a478abb598ab98e19b9",
       "version_major": 2,
       "version_minor": 0
      },
      "text/plain": [
       "HBox(children=(FloatProgress(value=0.0, max=20.0), HTML(value='')))"
      ]
     },
     "metadata": {},
     "output_type": "display_data"
    },
    {
     "name": "stdout",
     "output_type": "stream",
     "text": [
      "\n"
     ]
    }
   ],
   "source": [
    "all_vacancy_ids= []\n",
    "StartTime = (datetime.datetime.now() - datetime.timedelta(days = 5) ).isoformat()\n",
    "EndTime   = (datetime.datetime.now()).isoformat()\n",
    "for i in tqdm(range(num_pages)):\n",
    "    url = f'https://api.hh.ru/vacancies?employer_id={sber}&date_from={StartTime}&date_to={EndTime}'\n",
    "    res = requests.get(url)\n",
    "    if res.status_code == 200:\n",
    "        vacancies = res.json()\n",
    "        if vacancies.get('found') == 0:\n",
    "            break\n",
    "        for i in range(vacancies.get('found')//100+1):\n",
    "            url = f'https://api.hh.ru/vacancies?employer_id={sber}&page={i}&per_page={num_per_page}&date_from={StartTime}&date_to={EndTime}'\n",
    "            res = requests.get(url)\n",
    "            if res.status_code == 200:\n",
    "                v = res.json()\n",
    "                v_ids = [el.get('id') for el in v.get('items')]\n",
    "                all_vacancy_ids.extend(v_ids)\n",
    "    EndTime = StartTime\n",
    "    StartTime = (datetime.datetime.now() - datetime.timedelta(days = i*10)).isoformat()"
   ]
  },
  {
   "cell_type": "code",
   "execution_count": null,
   "metadata": {},
   "outputs": [],
   "source": [
    "len(set(all_vacancy_ids))"
   ]
  },
  {
   "cell_type": "code",
   "execution_count": null,
   "metadata": {},
   "outputs": [],
   "source": [
    "# Задание вытащить все вакансии СБЕРа с ХХ (у апи есть ограничение в 2000, подумайте как его обойти)\n",
    "# Вытащите все полные описания этих вакансий по запросу с https://api.hh.ru/vacancies/43326020 где 43326020 id вакансии\n",
    "# Создайте аналогичный vacancy DataFrame только добавьте поле skills\n",
    "# Переведите даты публикаций в datetime\n",
    "# Постройте график опубликованных вакансий по датам\n",
    "# Переведите даты в дни недели, и определите день недели, в который больше всего публикуют вакансий\n",
    "# Найдите те вакансии с использованием python, которые вам интересны\n",
    "# Определите по полю skills какие навыки больше всего востребованы для этих вакансий, и\n",
    "# Постройте график наиболее востребованных вакансий"
   ]
  },
  {
   "cell_type": "markdown",
   "metadata": {},
   "source": [
    "### Вытащите все полные описания этих вакансий по запросу с https://api.hh.ru/vacancies/43326020 где 43326020 id вакансии\n",
    "### Создайте аналогичный vacancy DataFrame только добавьте поле skills\n"
   ]
  },
  {
   "cell_type": "code",
   "execution_count": 6,
   "metadata": {},
   "outputs": [
    {
     "data": {
      "text/html": [
       "<div>\n",
       "<style scoped>\n",
       "    .dataframe tbody tr th:only-of-type {\n",
       "        vertical-align: middle;\n",
       "    }\n",
       "\n",
       "    .dataframe tbody tr th {\n",
       "        vertical-align: top;\n",
       "    }\n",
       "\n",
       "    .dataframe thead th {\n",
       "        text-align: right;\n",
       "    }\n",
       "</style>\n",
       "<table border=\"1\" class=\"dataframe\">\n",
       "  <thead>\n",
       "    <tr style=\"text-align: right;\">\n",
       "      <th></th>\n",
       "      <th>created_at</th>\n",
       "      <th>updated_at</th>\n",
       "      <th>vacid</th>\n",
       "      <th>vactitle</th>\n",
       "      <th>vacdescription</th>\n",
       "      <th>vacdate</th>\n",
       "      <th>vacstatus</th>\n",
       "      <th>vaclink</th>\n",
       "      <th>vachtml</th>\n",
       "      <th>skills</th>\n",
       "    </tr>\n",
       "  </thead>\n",
       "  <tbody>\n",
       "  </tbody>\n",
       "</table>\n",
       "</div>"
      ],
      "text/plain": [
       "Empty DataFrame\n",
       "Columns: [created_at, updated_at, vacid, vactitle, vacdescription, vacdate, vacstatus, vaclink, vachtml, skills]\n",
       "Index: []"
      ]
     },
     "execution_count": 6,
     "metadata": {},
     "output_type": "execute_result"
    }
   ],
   "source": [
    "df = pd.DataFrame({ \n",
    "              'created_at':[], \n",
    "              'updated_at':[], \n",
    "              'vacid':[], \n",
    "              'vactitle':[],\n",
    "              'vacdescription':[],\n",
    "              'vacdate':[], \n",
    "              'vacstatus':[], \n",
    "              'vaclink':[], \n",
    "              'vachtml':[],\n",
    "              'skills':[]   \n",
    "})\n",
    "df\n"
   ]
  },
  {
   "cell_type": "code",
   "execution_count": null,
   "metadata": {},
   "outputs": [
    {
     "data": {
      "application/vnd.jupyter.widget-view+json": {
       "model_id": "542b06448a384b4faffbc764c59f1e8e",
       "version_major": 2,
       "version_minor": 0
      },
      "text/plain": [
       "HBox(children=(FloatProgress(value=0.0, max=2293.0), HTML(value='')))"
      ]
     },
     "metadata": {},
     "output_type": "display_data"
    }
   ],
   "source": [
    "import datetime\n",
    "all_vacancy_ids = list(set(all_vacancy_ids))\n",
    "for i in tqdm(range(len(all_vacancy_ids))):\n",
    "    url_vac = f\"\"\"https://api.hh.ru/vacancies/{all_vacancy_ids[i]}\"\"\"\n",
    "    res_vac = requests.get(url_vac)\n",
    "    if res_vac.status_code == 200:\n",
    "        json_vac = json.loads(res_vac.text)\n",
    "        df_new = pd.DataFrame({ \n",
    "                              'created_at':[json_vac['created_at']], \n",
    "                              'updated_at':[json_vac['published_at']], \n",
    "                              'vacid':[json_vac['id']], \n",
    "                              'vactitle':[json_vac['name']],\n",
    "                              'vacdescription':[json_vac['description']],\n",
    "                              'vacdate': [json_vac['published_at']], \n",
    "                              'vacstatus':[json_vac['type']['id']], \n",
    "                              'vaclink':[json_vac['alternate_url']],\n",
    "                              'vachtml':[json_vac['branded_description']],\n",
    "                              'skills': ', '.join([j['name'] for j in json_vac['key_skills']]) \n",
    "                              })\n",
    "        df = df.append(df_new, ignore_index = True)\n"
   ]
  },
  {
   "cell_type": "markdown",
   "metadata": {},
   "source": [
    "### Переведите даты публикаций в datetime\n"
   ]
  },
  {
   "cell_type": "code",
   "execution_count": null,
   "metadata": {},
   "outputs": [],
   "source": [
    "df['vacdate']  = df['vacdate'].apply(pd.to_datetime)"
   ]
  },
  {
   "cell_type": "markdown",
   "metadata": {},
   "source": [
    "### Постройте график опубликованных вакансий по датам\n"
   ]
  },
  {
   "cell_type": "code",
   "execution_count": null,
   "metadata": {},
   "outputs": [],
   "source": [
    "df[\"vacdate\"].dt.date.value_counts().plot(kind=\"bar\", title='график вакансий по датам') "
   ]
  },
  {
   "cell_type": "markdown",
   "metadata": {},
   "source": [
    "### Переведите даты в дни недели, и определите день недели, в который больше всего публикуют вакансий\n"
   ]
  },
  {
   "cell_type": "code",
   "execution_count": null,
   "metadata": {},
   "outputs": [],
   "source": [
    "df['day'] = df.vacdate.dt.day_name()"
   ]
  },
  {
   "cell_type": "code",
   "execution_count": null,
   "metadata": {},
   "outputs": [],
   "source": [
    "df"
   ]
  },
  {
   "cell_type": "code",
   "execution_count": null,
   "metadata": {},
   "outputs": [],
   "source": [
    "df.day.groupby().count()"
   ]
  },
  {
   "cell_type": "code",
   "execution_count": null,
   "metadata": {},
   "outputs": [],
   "source": [
    "(pd.Series(data =[1 for i in range(len(df))], index=df.day)\n",
    "    .groupby('day')\n",
    "    .count()\n",
    "    .sort_values(ascending=False)\n",
    ")"
   ]
  },
  {
   "cell_type": "code",
   "execution_count": null,
   "metadata": {},
   "outputs": [],
   "source": [
    "df['day'].value_counts().argmax()"
   ]
  },
  {
   "cell_type": "markdown",
   "metadata": {},
   "source": [
    "### Найдите те вакансии с использованием python, которые вам интересны\n"
   ]
  },
  {
   "cell_type": "code",
   "execution_count": null,
   "metadata": {},
   "outputs": [],
   "source": [
    "df_interested = df.loc[df['vactitle'].str.contains(\"data\", case=False)]"
   ]
  },
  {
   "cell_type": "code",
   "execution_count": null,
   "metadata": {},
   "outputs": [],
   "source": [
    "len(df_interested)"
   ]
  },
  {
   "cell_type": "markdown",
   "metadata": {},
   "source": [
    "### Определите по полю skills какие навыки больше всего востребованы для этих вакансий, и\n"
   ]
  },
  {
   "cell_type": "code",
   "execution_count": null,
   "metadata": {},
   "outputs": [],
   "source": [
    "d = {}\n",
    "lst = df_interested.skills.str.split(',').tolist()\n",
    "for i in lst:\n",
    "    for j in i:\n",
    "        if j.strip() == '':\n",
    "            continue\n",
    "        elif j.strip() not in d:\n",
    "            d[j.strip()] = 1\n",
    "        else: d[j.strip()] += 1\n",
    "d"
   ]
  },
  {
   "cell_type": "code",
   "execution_count": null,
   "metadata": {},
   "outputs": [],
   "source": [
    "from collections import Counter \n",
    "most_common = dict(Counter(d).most_common(10))"
   ]
  },
  {
   "cell_type": "code",
   "execution_count": null,
   "metadata": {},
   "outputs": [],
   "source": [
    "most_common"
   ]
  },
  {
   "cell_type": "markdown",
   "metadata": {},
   "source": [
    "### Постройте график наиболее востребованных вакансий"
   ]
  },
  {
   "cell_type": "code",
   "execution_count": null,
   "metadata": {},
   "outputs": [],
   "source": [
    "import numpy as np\n",
    "import matplotlib.pyplot as plt\n",
    "\n",
    "courses = list(most_common.keys())\n",
    "values = list(most_common.values())\n",
    "  \n",
    "fig = plt.figure(figsize = (15, 5))\n",
    " \n",
    "# creating the bar plot\n",
    "plt.bar(courses, values, color ='maroon',\n",
    "        width = 0.8)\n",
    " \n",
    "plt.xlabel(\"Skill's name\")\n",
    "plt.ylabel(\"No.\")\n",
    "plt.title(\"Most common skills\")\n",
    "plt.show()"
   ]
  },
  {
   "cell_type": "code",
   "execution_count": null,
   "metadata": {},
   "outputs": [],
   "source": []
  }
 ],
 "metadata": {
  "kernelspec": {
   "display_name": "Python 3",
   "language": "python",
   "name": "python3"
  },
  "language_info": {
   "codemirror_mode": {
    "name": "ipython",
    "version": 3
   },
   "file_extension": ".py",
   "mimetype": "text/x-python",
   "name": "python",
   "nbconvert_exporter": "python",
   "pygments_lexer": "ipython3",
   "version": "3.7.3"
  }
 },
 "nbformat": 4,
 "nbformat_minor": 4
}
