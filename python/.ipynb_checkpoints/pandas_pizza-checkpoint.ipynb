{
 "cells": [
  {
   "cell_type": "markdown",
   "metadata": {},
   "source": [
    "# Про Pandas"
   ]
  },
  {
   "cell_type": "code",
   "execution_count": 1,
   "metadata": {},
   "outputs": [],
   "source": [
    "import pandas as pd\n",
    "import os\n",
    "import numpy as np\n",
    "fpath = os.path.join('data','Datafiniti_Pizza_Restaurants_and_the_Pizza_They_Sell_May19.csv')\n",
    "pizza = pd.read_csv(fpath)"
   ]
  },
  {
   "cell_type": "code",
   "execution_count": 9,
   "metadata": {
    "pycharm": {
     "name": "#%%\n"
    }
   },
   "outputs": [],
   "source": []
  },
  {
   "cell_type": "code",
   "execution_count": 3,
   "metadata": {},
   "outputs": [],
   "source": [
    "# Первые строчки таблицы"
   ]
  },
  {
   "cell_type": "code",
   "execution_count": 2,
   "metadata": {
    "collapsed": true
   },
   "outputs": [
    {
     "name": "stdout",
     "output_type": "stream",
     "text": [
      "<class 'pandas.core.frame.DataFrame'>\n",
      "RangeIndex: 10000 entries, 0 to 9999\n",
      "Data columns (total 24 columns):\n",
      "id                    10000 non-null object\n",
      "dateAdded             10000 non-null object\n",
      "dateUpdated           10000 non-null object\n",
      "address               10000 non-null object\n",
      "categories            10000 non-null object\n",
      "primaryCategories     10000 non-null object\n",
      "city                  10000 non-null object\n",
      "country               10000 non-null object\n",
      "keys                  10000 non-null object\n",
      "latitude              10000 non-null float64\n",
      "longitude             10000 non-null float64\n",
      "menuPageURL           1679 non-null object\n",
      "menus.amountMax       10000 non-null float64\n",
      "menus.amountMin       10000 non-null float64\n",
      "menus.currency        10000 non-null object\n",
      "menus.dateSeen        10000 non-null object\n",
      "menus.description     3718 non-null object\n",
      "menus.name            10000 non-null object\n",
      "name                  10000 non-null object\n",
      "postalCode            9996 non-null object\n",
      "priceRangeCurrency    10000 non-null object\n",
      "priceRangeMin         10000 non-null int64\n",
      "priceRangeMax         10000 non-null int64\n",
      "province              10000 non-null object\n",
      "dtypes: float64(4), int64(2), object(18)\n",
      "memory usage: 1.8+ MB\n"
     ]
    }
   ],
   "source": [
    "# Информация о таблице\n",
    "pizza.info()"
   ]
  },
  {
   "cell_type": "code",
   "execution_count": 19,
   "metadata": {},
   "outputs": [],
   "source": [
    "# Если нужно удалить колонки\n",
    "# pizza = pizza.drop(['address','dateUpdated'], axis=1)"
   ]
  },
  {
   "cell_type": "code",
   "execution_count": 4,
   "metadata": {},
   "outputs": [],
   "source": [
    "# pizza.head()"
   ]
  },
  {
   "cell_type": "code",
   "execution_count": 5,
   "metadata": {},
   "outputs": [],
   "source": [
    "# Выводим названия колонок\n",
    "# pizza.columns"
   ]
  },
  {
   "cell_type": "code",
   "execution_count": 8,
   "metadata": {},
   "outputs": [],
   "source": [
    "# Количество уникальных значений в колонке\n",
    "pizza['pizzeria_name_len'] = pizza.name.apply(lambda x:len(x) )"
   ]
  },
  {
   "cell_type": "code",
   "execution_count": 9,
   "metadata": {},
   "outputs": [],
   "source": [
    "# pizza[['menus.description', 'menus.name']]"
   ]
  },
  {
   "cell_type": "code",
   "execution_count": 2,
   "metadata": {},
   "outputs": [],
   "source": []
  },
  {
   "cell_type": "code",
   "execution_count": 2,
   "metadata": {},
   "outputs": [],
   "source": [
    "# Уникальные значения в колонке\n",
    "# pizza.name.unique().tolist()"
   ]
  },
  {
   "cell_type": "code",
   "execution_count": 12,
   "metadata": {},
   "outputs": [],
   "source": [
    "# Группируем с помощью groupby\n",
    "# количество уникальных названий по регионам \n",
    "pizzaz_by_province = pizza.groupby(['province'])['name'].nunique().reset_index()"
   ]
  },
  {
   "cell_type": "code",
   "execution_count": 86,
   "metadata": {},
   "outputs": [],
   "source": [
    "# pizzaz_by_province"
   ]
  },
  {
   "cell_type": "code",
   "execution_count": 13,
   "metadata": {},
   "outputs": [
    {
     "data": {
      "text/plain": [
       "Index(['province', 'name'], dtype='object')"
      ]
     },
     "execution_count": 13,
     "metadata": {},
     "output_type": "execute_result"
    }
   ],
   "source": [
    "# проверяем названия колонок\n",
    "pizzaz_by_province.columns"
   ]
  },
  {
   "cell_type": "code",
   "execution_count": 14,
   "metadata": {},
   "outputs": [],
   "source": [
    "# Меняем названия на те что нам нравятся\n",
    "pizzaz_by_province.columns = ['province','quantity']"
   ]
  },
  {
   "cell_type": "code",
   "execution_count": 15,
   "metadata": {},
   "outputs": [],
   "source": [
    "pizzaz_by_province.rename(columns={'name':'quantity'}, inplace=True)"
   ]
  },
  {
   "cell_type": "code",
   "execution_count": 17,
   "metadata": {},
   "outputs": [],
   "source": [
    "# pizzaz_by_province"
   ]
  },
  {
   "cell_type": "code",
   "execution_count": 18,
   "metadata": {},
   "outputs": [],
   "source": [
    "# Сортируем по полю quantity\n",
    "pizzaz_by_province = pizzaz_by_province.sort_values(by=['quantity'], ascending=[False])"
   ]
  },
  {
   "cell_type": "code",
   "execution_count": null,
   "metadata": {},
   "outputs": [],
   "source": []
  },
  {
   "cell_type": "code",
   "execution_count": 102,
   "metadata": {},
   "outputs": [],
   "source": [
    "# Размечаем те регионы, где много пиццерий с помощью numpy\n",
    "# pizzaz_by_province['many_or_not_many_pd'] = np.where(pizzaz_by_province['quantity']> 100,1,0)"
   ]
  },
  {
   "cell_type": "code",
   "execution_count": null,
   "metadata": {},
   "outputs": [],
   "source": []
  },
  {
   "cell_type": "code",
   "execution_count": 26,
   "metadata": {},
   "outputs": [
    {
     "data": {
      "text/plain": [
       "13"
      ]
     },
     "execution_count": 26,
     "metadata": {},
     "output_type": "execute_result"
    }
   ],
   "source": [
    "# Размечаем те регионы, где много пиццерий с помощью pandas\n",
    "\n",
    "# Неправильный вариант\n",
    "# pizzaz_by_province[pizzaz_by_province['quantity'] > 100]['many_or_not_many_pd'] = 1\n",
    "# pizzaz_by_province[pizzaz_by_province['quantity'] <=100]['many_or_not_many_pd'] = 0\n",
    "\n",
    "# Правильный вариант\n",
    "pizzaz_by_province['less_10'] = 0\n",
    "pizzaz_by_province.loc[pizzaz_by_province['quantity'] < 10, 'less_10' ] = 1\n",
    "pizzaz_by_province.less_10.sum()"
   ]
  },
  {
   "cell_type": "code",
   "execution_count": 29,
   "metadata": {},
   "outputs": [],
   "source": [
    "less_10_provinces = pizzaz_by_province.loc[pizzaz_by_province['quantity'] < 10, 'province' ].tolist()"
   ]
  },
  {
   "cell_type": "code",
   "execution_count": 20,
   "metadata": {},
   "outputs": [],
   "source": [
    "# Меняем тип данных в колонке"
   ]
  },
  {
   "cell_type": "code",
   "execution_count": 21,
   "metadata": {},
   "outputs": [],
   "source": [
    "# Рассчитываем сумму или среднее значение по колонке"
   ]
  },
  {
   "cell_type": "code",
   "execution_count": 22,
   "metadata": {},
   "outputs": [],
   "source": [
    "# Применение функции к элекментам колонки"
   ]
  },
  {
   "cell_type": "code",
   "execution_count": 104,
   "metadata": {},
   "outputs": [],
   "source": [
    "def qdevtwo(x):\n",
    "    if int(x) % 2 == 0:\n",
    "        return 1\n",
    "    else:\n",
    "        return 0\n",
    "        \n",
    "pizzaz_by_province['dev2'] = pizzaz_by_province.quantity.apply(lambda x: qdevtwo(x))"
   ]
  },
  {
   "cell_type": "code",
   "execution_count": 105,
   "metadata": {},
   "outputs": [],
   "source": [
    "pizzaz_by_province['dev2'] = pizzaz_by_province.quantity.apply(qdevtwo)"
   ]
  },
  {
   "cell_type": "code",
   "execution_count": 23,
   "metadata": {},
   "outputs": [
    {
     "data": {
      "text/html": [
       "<div>\n",
       "<style scoped>\n",
       "    .dataframe tbody tr th:only-of-type {\n",
       "        vertical-align: middle;\n",
       "    }\n",
       "\n",
       "    .dataframe tbody tr th {\n",
       "        vertical-align: top;\n",
       "    }\n",
       "\n",
       "    .dataframe thead th {\n",
       "        text-align: right;\n",
       "    }\n",
       "</style>\n",
       "<table border=\"1\" class=\"dataframe\">\n",
       "  <thead>\n",
       "    <tr style=\"text-align: right;\">\n",
       "      <th></th>\n",
       "      <th>province</th>\n",
       "      <th>quantity</th>\n",
       "      <th>many_or_not_many_pd</th>\n",
       "    </tr>\n",
       "  </thead>\n",
       "  <tbody>\n",
       "    <tr>\n",
       "      <th>30</th>\n",
       "      <td>NY</td>\n",
       "      <td>395</td>\n",
       "      <td>1.0</td>\n",
       "    </tr>\n",
       "    <tr>\n",
       "      <th>4</th>\n",
       "      <td>CA</td>\n",
       "      <td>219</td>\n",
       "      <td>1.0</td>\n",
       "    </tr>\n",
       "    <tr>\n",
       "      <th>34</th>\n",
       "      <td>PA</td>\n",
       "      <td>172</td>\n",
       "      <td>1.0</td>\n",
       "    </tr>\n",
       "  </tbody>\n",
       "</table>\n",
       "</div>"
      ],
      "text/plain": [
       "   province  quantity  many_or_not_many_pd\n",
       "30       NY       395                  1.0\n",
       "4        CA       219                  1.0\n",
       "34       PA       172                  1.0"
      ]
     },
     "execution_count": 23,
     "metadata": {},
     "output_type": "execute_result"
    }
   ],
   "source": [
    "pizzaz_by_province.head(3)"
   ]
  },
  {
   "cell_type": "code",
   "execution_count": 1,
   "metadata": {},
   "outputs": [],
   "source": [
    "# pizzaz_by_province.iloc[1,:]"
   ]
  },
  {
   "cell_type": "code",
   "execution_count": null,
   "metadata": {},
   "outputs": [],
   "source": []
  },
  {
   "cell_type": "code",
   "execution_count": null,
   "metadata": {},
   "outputs": [],
   "source": []
  },
  {
   "cell_type": "code",
   "execution_count": null,
   "metadata": {},
   "outputs": [],
   "source": []
  },
  {
   "cell_type": "code",
   "execution_count": 248,
   "metadata": {},
   "outputs": [],
   "source": [
    "# Альтернативный вариант\n",
    "dev2list = []\n",
    "for i in range(pizzaz_by_province.shape[0]):\n",
    "    val =  pizzaz_by_province.iloc[i,1]\n",
    "    dev2list.append(qdevtwo(val))\n",
    "\n",
    "pizzaz_by_province['dev2_loop'] = dev2list"
   ]
  },
  {
   "cell_type": "code",
   "execution_count": 251,
   "metadata": {},
   "outputs": [
    {
     "data": {
      "text/html": [
       "<div>\n",
       "<style scoped>\n",
       "    .dataframe tbody tr th:only-of-type {\n",
       "        vertical-align: middle;\n",
       "    }\n",
       "\n",
       "    .dataframe tbody tr th {\n",
       "        vertical-align: top;\n",
       "    }\n",
       "\n",
       "    .dataframe thead th {\n",
       "        text-align: right;\n",
       "    }\n",
       "</style>\n",
       "<table border=\"1\" class=\"dataframe\">\n",
       "  <thead>\n",
       "    <tr style=\"text-align: right;\">\n",
       "      <th></th>\n",
       "      <th>province</th>\n",
       "      <th>quantity</th>\n",
       "      <th>many_or_not_many</th>\n",
       "      <th>many_or_not_many_pd</th>\n",
       "      <th>dev2</th>\n",
       "      <th>dev2_loop</th>\n",
       "    </tr>\n",
       "  </thead>\n",
       "  <tbody>\n",
       "    <tr>\n",
       "      <th>30</th>\n",
       "      <td>NY</td>\n",
       "      <td>395</td>\n",
       "      <td>1</td>\n",
       "      <td>1</td>\n",
       "      <td>0</td>\n",
       "      <td>0</td>\n",
       "    </tr>\n",
       "    <tr>\n",
       "      <th>4</th>\n",
       "      <td>CA</td>\n",
       "      <td>219</td>\n",
       "      <td>1</td>\n",
       "      <td>1</td>\n",
       "      <td>0</td>\n",
       "      <td>0</td>\n",
       "    </tr>\n",
       "    <tr>\n",
       "      <th>34</th>\n",
       "      <td>PA</td>\n",
       "      <td>172</td>\n",
       "      <td>1</td>\n",
       "      <td>1</td>\n",
       "      <td>1</td>\n",
       "      <td>1</td>\n",
       "    </tr>\n",
       "    <tr>\n",
       "      <th>8</th>\n",
       "      <td>FL</td>\n",
       "      <td>145</td>\n",
       "      <td>1</td>\n",
       "      <td>1</td>\n",
       "      <td>0</td>\n",
       "      <td>0</td>\n",
       "    </tr>\n",
       "    <tr>\n",
       "      <th>38</th>\n",
       "      <td>TX</td>\n",
       "      <td>117</td>\n",
       "      <td>1</td>\n",
       "      <td>1</td>\n",
       "      <td>0</td>\n",
       "      <td>0</td>\n",
       "    </tr>\n",
       "  </tbody>\n",
       "</table>\n",
       "</div>"
      ],
      "text/plain": [
       "   province  quantity  many_or_not_many  many_or_not_many_pd  dev2  dev2_loop\n",
       "30       NY       395                 1                    1     0          0\n",
       "4        CA       219                 1                    1     0          0\n",
       "34       PA       172                 1                    1     1          1\n",
       "8        FL       145                 1                    1     0          0\n",
       "38       TX       117                 1                    1     0          0"
      ]
     },
     "execution_count": 251,
     "metadata": {},
     "output_type": "execute_result"
    }
   ],
   "source": [
    "pizzaz_by_province.head()"
   ]
  },
  {
   "cell_type": "code",
   "execution_count": 135,
   "metadata": {},
   "outputs": [
    {
     "data": {
      "text/plain": [
       "(10000, 24)"
      ]
     },
     "execution_count": 135,
     "metadata": {},
     "output_type": "execute_result"
    }
   ],
   "source": [
    "pizza.shape"
   ]
  },
  {
   "cell_type": "markdown",
   "metadata": {},
   "source": [
    "# Практическое задание"
   ]
  },
  {
   "cell_type": "code",
   "execution_count": 132,
   "metadata": {},
   "outputs": [],
   "source": [
    "#1. Взять датасет c пицериями и ублать лишние колонки :\n",
    "to_delete = [ 'dateAdded', 'keys',\n",
    " 'latitude', 'longitude','menuPageURL', 'menus.amountMax',\n",
    " 'menus.amountMin', 'postalCode', 'priceRangeCurrency']"
   ]
  },
  {
   "cell_type": "code",
   "execution_count": null,
   "metadata": {},
   "outputs": [],
   "source": [
    "# 2. Заменить значения в колонке country c US на RU\n",
    "#----- Ваш код здесь ----"
   ]
  },
  {
   "cell_type": "code",
   "execution_count": null,
   "metadata": {},
   "outputs": [],
   "source": [
    "# 4. Рассчитайте количество пицерий в городе 'Santa Barbara' в переменную sb_pizza_num\n",
    "#----- Ваш код здесь ----"
   ]
  },
  {
   "cell_type": "code",
   "execution_count": null,
   "metadata": {},
   "outputs": [],
   "source": [
    "# 5. Рассчитайте количество пицерий в Калифорнии (province == CA) в ca_pizza_num\n",
    "#----- Ваш код здесь ----"
   ]
  },
  {
   "cell_type": "code",
   "execution_count": null,
   "metadata": {},
   "outputs": [],
   "source": [
    "# 6. Рассчитайте и выведите долю 'Santa Barbara' в пицериях Калифорнии\n",
    "#----- Ваш код здесь ----"
   ]
  },
  {
   "cell_type": "code",
   "execution_count": null,
   "metadata": {},
   "outputs": [],
   "source": [
    "# 7. Рассчитайте средние значения priceRangeMin и priceRangeMax по primaryCategories\n",
    "#----- Ваш код здесь ----"
   ]
  },
  {
   "cell_type": "code",
   "execution_count": null,
   "metadata": {},
   "outputs": [],
   "source": [
    "# 8. Выведите топ-5 самых популярных названий пицц по menus.name\n",
    "#----- Ваш код здесь ----"
   ]
  },
  {
   "cell_type": "code",
   "execution_count": null,
   "metadata": {},
   "outputs": [],
   "source": [
    "# 9. Выведите самый редкий ингридиент из описания menus.description (опционально)\n",
    "#----- Ваш код здесь ----"
   ]
  },
  {
   "cell_type": "code",
   "execution_count": null,
   "metadata": {},
   "outputs": [],
   "source": [
    "# 10. Создайте директорию pizza_provinces\n",
    "#----- Ваш код здесь ----"
   ]
  },
  {
   "cell_type": "code",
   "execution_count": null,
   "metadata": {},
   "outputs": [],
   "source": [
    "# 11. Сохраните в эту директорию файлы с пицериями по регионам provinces \n",
    "# В задании важно учесть условие:\n",
    "#  Если регион начинается \"A\" то файл .xlsx, если 'N' то .csv, в остальных случаях .txt\n",
    "#  Пример: 'AR.xlsx' содержит в себе все пицерии из региона 'AR'\n",
    "\n",
    "#----- Ваш код здесь ----"
   ]
  },
  {
   "cell_type": "code",
   "execution_count": null,
   "metadata": {},
   "outputs": [],
   "source": [
    "# 12. Напишите функцию, которая на вход будет принимать регион, а на выходе выдавать город, где больше всего пцццерий\n",
    "#----- Ваш код здесь ----"
   ]
  },
  {
   "cell_type": "code",
   "execution_count": 226,
   "metadata": {},
   "outputs": [],
   "source": [
    "# 13. Рассчитайте и запишите в колонку city_len количество символов в названии города 2мя способами\n",
    "#----- Ваш код здесь ----"
   ]
  }
 ],
 "metadata": {
  "kernelspec": {
   "display_name": "Python 3",
   "language": "python",
   "name": "python3"
  },
  "language_info": {
   "codemirror_mode": {
    "name": "ipython",
    "version": 3
   },
   "file_extension": ".py",
   "mimetype": "text/x-python",
   "name": "python",
   "nbconvert_exporter": "python",
   "pygments_lexer": "ipython3",
   "version": "3.7.3"
  }
 },
 "nbformat": 4,
 "nbformat_minor": 2
}
